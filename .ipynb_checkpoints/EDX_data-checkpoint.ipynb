{
 "cells": [
  {
   "cell_type": "markdown",
   "id": "bf18cee3",
   "metadata": {},
   "source": [
    "# EDX data manipulation"
   ]
  },
  {
   "cell_type": "markdown",
   "id": "a80936a5",
   "metadata": {},
   "source": [
    "#### Cristina Cordoba, July 2023"
   ]
  },
  {
   "cell_type": "code",
   "execution_count": 1,
   "id": "67f2c90a",
   "metadata": {},
   "outputs": [],
   "source": [
    "# %matplotlib inline  \n",
    "%matplotlib qt\n",
    "# %matplotlib auto"
   ]
  },
  {
   "cell_type": "code",
   "execution_count": 2,
   "id": "2b756916",
   "metadata": {},
   "outputs": [],
   "source": [
    "import numpy as np\n",
    "import scipy.misc\n",
    "import hyperspy.api as hs\n",
    "#import pixstem.api as ps\n",
    "import matplotlib.colors as colors\n",
    "import matplotlib.pyplot as plt\n",
    "import matplotlib as mpl \n",
    "import os, os.path as path, glob\n",
    "import scipy.io as sio\n",
    "import pandas as pd \n",
    "#import imageio\n",
    "#import hihi\n",
    "import h5py\n",
    "import json\n",
    "import copy\n",
    "import lmfit\n",
    "\n",
    "# If ``empix`` is not installed, run \n",
    "# pip install git+https://gitlab.com/mrfitzpa/empix.git\n",
    "# in virtual environment.\n",
    "import empix\n",
    "\n",
    "from matplotlib.ticker import MultipleLocator, FormatStrFormatter"
   ]
  },
  {
   "cell_type": "markdown",
   "id": "6b8ed365",
   "metadata": {},
   "source": [
    "## Fist: Convert .rpl to .hdf5"
   ]
  },
  {
   "cell_type": "markdown",
   "id": "f9260b68",
   "metadata": {},
   "source": [
    "Make sure .rpl and .raw are in the same folder as this notebook"
   ]
  },
  {
   "cell_type": "code",
   "execution_count": 3,
   "id": "341b0de7",
   "metadata": {},
   "outputs": [],
   "source": [
    "signal = hs.load(\"EDS Data.rpl\")"
   ]
  },
  {
   "cell_type": "code",
   "execution_count": 4,
   "id": "03e91d3c",
   "metadata": {},
   "outputs": [
    {
     "data": {
      "text/plain": [
       "<Signal2D, title: EDS map, dimensions: (1024|104, 88)>"
      ]
     },
     "execution_count": 4,
     "metadata": {},
     "output_type": "execute_result"
    }
   ],
   "source": [
    "signal.metadata.General.title = 'EDS map'\n",
    "signal"
   ]
  },
  {
   "cell_type": "code",
   "execution_count": 5,
   "id": "992f88e6",
   "metadata": {},
   "outputs": [],
   "source": [
    "signal = signal.as_signal1D(0)"
   ]
  },
  {
   "cell_type": "code",
   "execution_count": 6,
   "id": "fddcc158",
   "metadata": {},
   "outputs": [],
   "source": [
    "signal.set_signal_type('EDS_TEM')"
   ]
  },
  {
   "cell_type": "code",
   "execution_count": 7,
   "id": "5d0283e3",
   "metadata": {},
   "outputs": [],
   "source": [
    "signal.axes_manager[-1].name = 'E'\n",
    "signal.axes_manager['E'].units = 'keV'\n",
    "signal.axes_manager['E'].scale = 0.01\n",
    "signal.axes_manager['E'].offset = -0.1"
   ]
  },
  {
   "cell_type": "code",
   "execution_count": 8,
   "id": "e30a529f",
   "metadata": {},
   "outputs": [],
   "source": [
    "signal.set_elements(['Ir','Pt', 'C', 'Cu'])"
   ]
  },
  {
   "cell_type": "code",
   "execution_count": 9,
   "id": "f9cca9a0",
   "metadata": {},
   "outputs": [
    {
     "data": {
      "text/html": [
       "<ul style=\"margin: 0px; list-style-position: outside;\">\n",
       "                    <details open>\n",
       "                    <summary style=\"display: list-item;\">\n",
       "                    <li style=\"display: inline;\">\n",
       "                    Acquisition_instrument\n",
       "                    </li></summary>\n",
       "                    <ul style=\"margin: 0px; list-style-position: outside;\">\n",
       "                    <details closed>\n",
       "                    <summary style=\"display: list-item;\">\n",
       "                    <li style=\"display: inline;\">\n",
       "                    TEM\n",
       "                    </li></summary>\n",
       "                    <ul style=\"margin: 0px; list-style-position: outside;\">\n",
       "                    <details closed>\n",
       "                    <summary style=\"display: list-item;\">\n",
       "                    <li style=\"display: inline;\">\n",
       "                    Detector\n",
       "                    </li></summary>\n",
       "                    <ul style=\"margin: 0px; list-style-position: outside;\">\n",
       "                    <details closed>\n",
       "                    <summary style=\"display: list-item;\">\n",
       "                    <li style=\"display: inline;\">\n",
       "                    EDS\n",
       "                    </li></summary>\n",
       "                    \n",
       "    <ul style=\"margin: 0px; list-style-position: outside;\">\n",
       "    <li style='margin-left:1em; padding-left: 0.5em'>azimuth_angle = 0.0</li></ul>\n",
       "    \n",
       "    <ul style=\"margin: 0px; list-style-position: outside;\">\n",
       "    <li style='margin-left:1em; padding-left: 0.5em'>elevation_angle = 35.0</li></ul>\n",
       "    \n",
       "    <ul style=\"margin: 0px; list-style-position: outside;\">\n",
       "    <li style='margin-left:1em; padding-left: 0.5em'>energy_resolution_MnKa = 130.0</li></ul>\n",
       "    </details></ul></details></ul><ul style=\"margin: 0px; list-style-position: outside;\">\n",
       "                    <details closed>\n",
       "                    <summary style=\"display: list-item;\">\n",
       "                    <li style=\"display: inline;\">\n",
       "                    Stage\n",
       "                    </li></summary>\n",
       "                    \n",
       "    <ul style=\"margin: 0px; list-style-position: outside;\">\n",
       "    <li style='margin-left:1em; padding-left: 0.5em'>tilt_alpha = 0.0</li></ul>\n",
       "    </details></ul></details></ul></details></ul><ul style=\"margin: 0px; list-style-position: outside;\">\n",
       "                    <details open>\n",
       "                    <summary style=\"display: list-item;\">\n",
       "                    <li style=\"display: inline;\">\n",
       "                    General\n",
       "                    </li></summary>\n",
       "                    <ul style=\"margin: 0px; list-style-position: outside;\">\n",
       "                    <details closed>\n",
       "                    <summary style=\"display: list-item;\">\n",
       "                    <li style=\"display: inline;\">\n",
       "                    FileIO\n",
       "                    </li></summary>\n",
       "                    <ul style=\"margin: 0px; list-style-position: outside;\">\n",
       "                    <details closed>\n",
       "                    <summary style=\"display: list-item;\">\n",
       "                    <li style=\"display: inline;\">\n",
       "                    0\n",
       "                    </li></summary>\n",
       "                    \n",
       "    <ul style=\"margin: 0px; list-style-position: outside;\">\n",
       "    <li style='margin-left:1em; padding-left: 0.5em'>hyperspy_version = 1.7.3</li></ul>\n",
       "    \n",
       "    <ul style=\"margin: 0px; list-style-position: outside;\">\n",
       "    <li style='margin-left:1em; padding-left: 0.5em'>io_plugin = hyperspy.io_plugins.ripple</li></ul>\n",
       "    \n",
       "    <ul style=\"margin: 0px; list-style-position: outside;\">\n",
       "    <li style='margin-left:1em; padding-left: 0.5em'>operation = load</li></ul>\n",
       "    \n",
       "    <ul style=\"margin: 0px; list-style-position: outside;\">\n",
       "    <li style='margin-left:1em; padding-left: 0.5em'>timestamp = 2023-10-17T16:28:47.476408-06:00</li></ul>\n",
       "    </details></ul></details></ul>\n",
       "    <ul style=\"margin: 0px; list-style-position: outside;\">\n",
       "    <li style='margin-left:1em; padding-left: 0.5em'>date = </li></ul>\n",
       "    \n",
       "    <ul style=\"margin: 0px; list-style-position: outside;\">\n",
       "    <li style='margin-left:1em; padding-left: 0.5em'>original_filename = EDS Data.rpl</li></ul>\n",
       "    \n",
       "    <ul style=\"margin: 0px; list-style-position: outside;\">\n",
       "    <li style='margin-left:1em; padding-left: 0.5em'>time = </li></ul>\n",
       "    \n",
       "    <ul style=\"margin: 0px; list-style-position: outside;\">\n",
       "    <li style='margin-left:1em; padding-left: 0.5em'>title = EDS map</li></ul>\n",
       "    </details></ul><ul style=\"margin: 0px; list-style-position: outside;\">\n",
       "                    <details open>\n",
       "                    <summary style=\"display: list-item;\">\n",
       "                    <li style=\"display: inline;\">\n",
       "                    Sample\n",
       "                    </li></summary>\n",
       "                    \n",
       "    <ul style=\"margin: 0px; list-style-position: outside;\">\n",
       "    <li style='margin-left:1em; padding-left: 0.5em'>elements = ['C', 'Cu', 'Ir', 'Pt']</li></ul>\n",
       "    </details></ul><ul style=\"margin: 0px; list-style-position: outside;\">\n",
       "                    <details open>\n",
       "                    <summary style=\"display: list-item;\">\n",
       "                    <li style=\"display: inline;\">\n",
       "                    Signal\n",
       "                    </li></summary>\n",
       "                    \n",
       "    <ul style=\"margin: 0px; list-style-position: outside;\">\n",
       "    <li style='margin-left:1em; padding-left: 0.5em'>signal_type = EDS_TEM</li></ul>\n",
       "    </details></ul>"
      ],
      "text/plain": [
       "├── Acquisition_instrument\n",
       "│   └── TEM\n",
       "│       ├── Detector\n",
       "│       │   └── EDS\n",
       "│       │       ├── azimuth_angle = 0.0\n",
       "│       │       ├── elevation_angle = 35.0\n",
       "│       │       └── energy_resolution_MnKa = 130.0\n",
       "│       └── Stage\n",
       "│           └── tilt_alpha = 0.0\n",
       "├── General\n",
       "│   ├── FileIO\n",
       "│   │   └── 0\n",
       "│   │       ├── hyperspy_version = 1.7.3\n",
       "│   │       ├── io_plugin = hyperspy.io_plugins.ripple\n",
       "│   │       ├── operation = load\n",
       "│   │       └── timestamp = 2023-10-17T16:28:47.476408-06:00\n",
       "│   ├── date = \n",
       "│   ├── original_filename = EDS Data.rpl\n",
       "│   ├── time = \n",
       "│   └── title = EDS map\n",
       "├── Sample\n",
       "│   └── elements = ['C', 'Cu', 'Ir', 'Pt']\n",
       "└── Signal\n",
       "    └── signal_type = EDS_TEM"
      ]
     },
     "execution_count": 9,
     "metadata": {},
     "output_type": "execute_result"
    }
   ],
   "source": [
    "signal.metadata"
   ]
  },
  {
   "cell_type": "code",
   "execution_count": 10,
   "id": "ce93d253",
   "metadata": {},
   "outputs": [],
   "source": [
    "signal.plot(xray_lines=True)"
   ]
  },
  {
   "cell_type": "markdown",
   "id": "c7068b46",
   "metadata": {},
   "source": [
    "Optional: \n",
    "-Command chaining.\n",
    "Sums all data across navigation positions, so you'll end up with 1-D dimensional data of the elements in there"
   ]
  },
  {
   "cell_type": "code",
   "execution_count": 11,
   "id": "9f1eee99",
   "metadata": {},
   "outputs": [],
   "source": [
    "signal.sum().plot(xray_lines=True)"
   ]
  },
  {
   "cell_type": "markdown",
   "id": "0a77a1c0",
   "metadata": {},
   "source": [
    "Save the new data as hdf5, wih the new added metadata and energy scalling"
   ]
  },
  {
   "cell_type": "code",
   "execution_count": 12,
   "id": "1a10bd50",
   "metadata": {},
   "outputs": [],
   "source": [
    "signal.save(\"EDS Data.hspy\", chunks=True)"
   ]
  },
  {
   "cell_type": "markdown",
   "id": "eb588f31",
   "metadata": {},
   "source": [
    "## Start here if you already have an hdf5 file "
   ]
  },
  {
   "cell_type": "markdown",
   "id": "1da0cccc",
   "metadata": {},
   "source": [
    "#### Load hdf5 file as variable 's' and plot"
   ]
  },
  {
   "cell_type": "code",
   "execution_count": 13,
   "id": "46c30b22",
   "metadata": {},
   "outputs": [],
   "source": [
    "s = hs.load(\"EDS Data.hspy\")"
   ]
  },
  {
   "cell_type": "code",
   "execution_count": 14,
   "id": "bbe7bcbb",
   "metadata": {},
   "outputs": [],
   "source": [
    "s.plot()"
   ]
  },
  {
   "cell_type": "code",
   "execution_count": 15,
   "id": "1d802d06",
   "metadata": {},
   "outputs": [],
   "source": [
    "s.set_elements(['Pt'])\n",
    "s.set_lines(['Pt_Ma'])"
   ]
  },
  {
   "cell_type": "markdown",
   "id": "7edfff4c",
   "metadata": {},
   "source": [
    "#### Various EDS color elemental maps"
   ]
  },
  {
   "cell_type": "markdown",
   "id": "daf1dbde",
   "metadata": {},
   "source": [
    "Intensity lines from elements set above "
   ]
  },
  {
   "cell_type": "code",
   "execution_count": 16,
   "id": "96cd544b",
   "metadata": {},
   "outputs": [],
   "source": [
    "eds_map = s.get_lines_intensity()"
   ]
  },
  {
   "cell_type": "code",
   "execution_count": 17,
   "id": "db6b2804",
   "metadata": {},
   "outputs": [
    {
     "data": {
      "text/plain": [
       "[<AxesSubplot: xlabel='width axis ()', ylabel='height axis ()'>]"
      ]
     },
     "execution_count": 17,
     "metadata": {},
     "output_type": "execute_result"
    }
   ],
   "source": [
    "hs.plot.plot_images(eds_map, cmap='viridis', \n",
    "                    axes_decor='on', scalebar='all')"
   ]
  },
  {
   "cell_type": "markdown",
   "id": "51cb71c6",
   "metadata": {},
   "source": [
    "Look at the window used for integration in the signal, zoom-in in the Energy axis to see it better."
   ]
  },
  {
   "cell_type": "code",
   "execution_count": 18,
   "id": "562f87d1",
   "metadata": {},
   "outputs": [],
   "source": [
    "s1 = s.isig[1.2:2.8]\n",
    "s1.add_lines()\n",
    "s1.plot(integration_windows='auto')"
   ]
  },
  {
   "cell_type": "markdown",
   "id": "b29aec39",
   "metadata": {},
   "source": [
    "## Trial for concentric square rings in Pt_Ir alloy"
   ]
  },
  {
   "cell_type": "code",
   "execution_count": 91,
   "id": "4eacf338",
   "metadata": {},
   "outputs": [],
   "source": [
    "s.plot()"
   ]
  },
  {
   "cell_type": "code",
   "execution_count": 92,
   "id": "369e2a0e",
   "metadata": {},
   "outputs": [],
   "source": [
    "global_center = [52, 49]\n",
    "greater_square_side = 30\n",
    "frame_width = 4\n",
    "\n",
    "d = greater_square_side\n",
    "w = frame_width\n",
    "c_row, c_col = global_center\n",
    "\n",
    "# Mask in local coords\n",
    "cols_in_mask_local_coords = np.arange(w, (d-1)-w+1)\n",
    "rows_in_mask_local_coords = np.arange(w, (d-1)-w+1)\n",
    "\n",
    "\n",
    "# Greater square global coords\n",
    "left_col = c_col - ((d-1)//2)\n",
    "right_col = left_col + d\n",
    "top_row = c_row - ((d-1)//2)\n",
    "bottom_row = top_row + d\n",
    "\n",
    "# All rows and cols inside the greater square global coords\n",
    "all_rows_greater_sq = np.arange(top_row, bottom_row+1)\n",
    "all_cols_greater_sq = np.arange(left_col, right_col+1)\n",
    "\n",
    "# Blank signal with axes \n",
    "mean_spectrum_frame = s.inav[0, 0]*0.0\n",
    "num_spectra_frame = 0\n",
    "mean_spectrum_mask = s.inav[0, 0]*0.0\n",
    "num_spectra_mask = 0\n",
    "\n",
    "for row_idx, row in enumerate(all_rows_greater_sq):\n",
    "    for col_idx, col in enumerate(all_cols_greater_sq):\n",
    "        if ((row_idx in rows_in_mask_local_coords)\n",
    "            and (col_idx in cols_in_mask_local_coords)):\n",
    "            mean_spectrum_mask += s.inav[col, row]\n",
    "            #mean_spectrum_mask = mean_spectrum_mask + s.inav[col, row]\n",
    "            num_spectra_mask += 1\n",
    "            #num_spectra_mask = num_spectra_mask + 1\n",
    "        else: \n",
    "            mean_spectrum_frame += s.inav[col, row]\n",
    "            #mean_spectrum_frame = mean_spectrum_frame + s.inav[col, row]\n",
    "            num_spectra_frame += 1\n",
    "            #num_spectra_frame = num_spectra_frame + 1\n",
    "mean_spectrum_mask /= float(num_spectra_mask)\n",
    "mean_spectrum_frame /= float(num_spectra_frame)\n",
    "\n",
    "#\n",
    "mean_spectrum_mask.metadata.General.title = \"Mean Mask Spectra\"\n",
    "mean_spectrum_frame.metadata.General.title = \"Mean Frame Spectra\""
   ]
  },
  {
   "cell_type": "code",
   "execution_count": 93,
   "id": "95b5bfc0",
   "metadata": {},
   "outputs": [],
   "source": [
    "mean_spectrum_mask.plot()\n",
    "mean_spectrum_frame.plot()"
   ]
  },
  {
   "cell_type": "code",
   "execution_count": 94,
   "id": "1cb1320f",
   "metadata": {},
   "outputs": [
    {
     "data": {
      "text/plain": [
       "<EDSTEMSpectrum, title: Mean Mask Spectra, dimensions: (|1024)>"
      ]
     },
     "execution_count": 94,
     "metadata": {},
     "output_type": "execute_result"
    }
   ],
   "source": [
    "mean_spectrum_mask"
   ]
  },
  {
   "cell_type": "markdown",
   "id": "db45cd7d",
   "metadata": {},
   "source": [
    "Plotting both signals"
   ]
  },
  {
   "cell_type": "code",
   "execution_count": 95,
   "id": "12f71e5d",
   "metadata": {},
   "outputs": [
    {
     "name": "stderr",
     "output_type": "stream",
     "text": [
      "/home/cristina/anaconda3/envs/temp/lib/python3.9/site-packages/hyperspy/misc/utils.py:1452: VisibleDeprecationWarning: `line_style` has been renamed to `linestyle` and will be removed in HyperSpy 2.0.\n",
      "  warnings.warn(msg, VisibleDeprecationWarning)\n"
     ]
    },
    {
     "data": {
      "text/plain": [
       "<Axes: xlabel='E (keV)'>"
      ]
     },
     "execution_count": 95,
     "metadata": {},
     "output_type": "execute_result"
    }
   ],
   "source": [
    "color_list = ['red', 'blue']\n",
    "line_style_list = ['-','solid']\n",
    "\n",
    "hs.plot.plot_spectra([mean_spectrum_mask,mean_spectrum_frame], \n",
    "                     style='cascade', color=color_list,\n",
    "                     line_style=line_style_list,\n",
    "                     legend='auto',\n",
    "                     padding=0, legend_loc='upper right')"
   ]
  },
  {
   "cell_type": "markdown",
   "id": "3c1646ac",
   "metadata": {},
   "source": [
    "### Removing background mask"
   ]
  },
  {
   "cell_type": "code",
   "execution_count": 118,
   "id": "f3a2212b",
   "metadata": {},
   "outputs": [
    {
     "name": "stdout",
     "output_type": "stream",
     "text": [
      "Pt_Ma at 2.0505 keV : Intensity = 451.59\n"
     ]
    },
    {
     "data": {
      "text/plain": [
       "[<BaseSignal, title: X-ray line intensity of Mean Mask Spectra: Pt_Ma at 2.05 keV, dimensions: (1|)>]"
      ]
     },
     "execution_count": 118,
     "metadata": {},
     "output_type": "execute_result"
    }
   ],
   "source": [
    "bw = mean_spectrum_mask.estimate_background_windows()#line_width=[2.9, 4.5]\n",
    "mean_spectrum_mask.plot(background_windows=bw)\n",
    "       \n",
    "mean_spectrum_mask.get_lines_intensity(background_windows=bw, \n",
    "                                       plot_result=True)"
   ]
  },
  {
   "cell_type": "code",
   "execution_count": 119,
   "id": "8ffe6d02",
   "metadata": {},
   "outputs": [],
   "source": [
    "mean_spectrum_mask.add_elements(['Pt', 'C', 'Cu'])\n",
    "mean_spectrum_mask.set_microscope_parameters(beam_energy=20)"
   ]
  },
  {
   "cell_type": "code",
   "execution_count": 120,
   "id": "cfa3c00c",
   "metadata": {},
   "outputs": [
    {
     "data": {
      "text/html": [
       "<h4>EDSTEMModel: Mean Mask Spectra</h4><p><b>current_component_values: background_order_6</b><br />Active: True</p><table style=\"width:100%\"><tr><th>Parameter Name</th><th>Free</th>\n",
       "            <th>Value</th><th>Std</th><th>Min</th><th>Max</th><th>Linear</th></tr><tr><td>a0</td><td>True</td><td>     0</td>\n",
       "                    <td></td><td></td><td></td><td>True</td></tr><tr><td>a1</td><td>True</td><td>     0</td>\n",
       "                    <td></td><td></td><td></td><td>True</td></tr><tr><td>a2</td><td>True</td><td>     0</td>\n",
       "                    <td></td><td></td><td></td><td>True</td></tr><tr><td>a3</td><td>True</td><td>     0</td>\n",
       "                    <td></td><td></td><td></td><td>True</td></tr><tr><td>a4</td><td>True</td><td>     0</td>\n",
       "                    <td></td><td></td><td></td><td>True</td></tr><tr><td>a5</td><td>True</td><td>     0</td>\n",
       "                    <td></td><td></td><td></td><td>True</td></tr><tr><td>a6</td><td>True</td><td>     0</td>\n",
       "                    <td></td><td></td><td></td><td>True</td></tr></table><p><b>current_component_values: C_Ka</b><br />Active: True</p><table style=\"width:100%\"><tr><th>Parameter Name</th><th>Free</th>\n",
       "            <th>Value</th><th>Std</th><th>Min</th><th>Max</th><th>Linear</th></tr><tr><td>A</td><td>True</td><td>170.14</td>\n",
       "                    <td>   nan</td><td>     0</td><td></td><td>True</td></tr><tr><td>centre</td><td>False</td><td>0.2774</td>\n",
       "                    <td></td><td></td><td></td><td>False</td></tr><tr><td>sigma</td><td>False</td><td>0.0503888</td>\n",
       "                    <td></td><td>     0</td><td></td><td>False</td></tr></table><p><b>current_component_values: Cu_Ka</b><br />Active: True</p><table style=\"width:100%\"><tr><th>Parameter Name</th><th>Free</th>\n",
       "            <th>Value</th><th>Std</th><th>Min</th><th>Max</th><th>Linear</th></tr><tr><td>A</td><td>True</td><td>-18.3045</td>\n",
       "                    <td>   nan</td><td>     0</td><td></td><td>True</td></tr><tr><td>centre</td><td>False</td><td>8.0478</td>\n",
       "                    <td></td><td></td><td></td><td>False</td></tr><tr><td>sigma</td><td>False</td><td>0.077732</td>\n",
       "                    <td></td><td>     0</td><td></td><td>False</td></tr></table><p><b>current_component_values: Cu_Kb</b><br />Active: True</p><table style=\"width:100%\"><tr><th>Parameter Name</th><th>Free</th>\n",
       "            <th>Value</th><th>Std</th><th>Min</th><th>Max</th><th>Linear</th></tr><tr><td>A</td><td>Twinned</td><td>-2.40832</td>\n",
       "                    <td></td><td>     0</td><td></td><td>True</td></tr><tr><td>centre</td><td>False</td><td>8.9053</td>\n",
       "                    <td></td><td></td><td></td><td>False</td></tr><tr><td>sigma</td><td>False</td><td>0.0801801</td>\n",
       "                    <td></td><td>     0</td><td></td><td>False</td></tr></table><p><b>current_component_values: Cu_La</b><br />Active: True</p><table style=\"width:100%\"><tr><th>Parameter Name</th><th>Free</th>\n",
       "            <th>Value</th><th>Std</th><th>Min</th><th>Max</th><th>Linear</th></tr><tr><td>A</td><td>True</td><td>360.269</td>\n",
       "                    <td>   nan</td><td>     0</td><td></td><td>True</td></tr><tr><td>centre</td><td>False</td><td>0.9295</td>\n",
       "                    <td></td><td></td><td></td><td>False</td></tr><tr><td>sigma</td><td>False</td><td>0.0532262</td>\n",
       "                    <td></td><td>     0</td><td></td><td>False</td></tr></table><p><b>current_component_values: Cu_Lb1</b><br />Active: True</p><table style=\"width:100%\"><tr><th>Parameter Name</th><th>Free</th>\n",
       "            <th>Value</th><th>Std</th><th>Min</th><th>Max</th><th>Linear</th></tr><tr><td>A</td><td>Twinned</td><td>11.5178</td>\n",
       "                    <td></td><td>     0</td><td></td><td>True</td></tr><tr><td>centre</td><td>False</td><td>0.9494</td>\n",
       "                    <td></td><td></td><td></td><td>False</td></tr><tr><td>sigma</td><td>False</td><td>0.0533104</td>\n",
       "                    <td></td><td>     0</td><td></td><td>False</td></tr></table><p><b>current_component_values: Cu_Ln</b><br />Active: True</p><table style=\"width:100%\"><tr><th>Parameter Name</th><th>Free</th>\n",
       "            <th>Value</th><th>Std</th><th>Min</th><th>Max</th><th>Linear</th></tr><tr><td>A</td><td>Twinned</td><td>7.14774</td>\n",
       "                    <td></td><td>     0</td><td></td><td>True</td></tr><tr><td>centre</td><td>False</td><td>0.8312</td>\n",
       "                    <td></td><td></td><td></td><td>False</td></tr><tr><td>sigma</td><td>False</td><td>0.0528082</td>\n",
       "                    <td></td><td>     0</td><td></td><td>False</td></tr></table><p><b>current_component_values: Cu_Ll</b><br />Active: True</p><table style=\"width:100%\"><tr><th>Parameter Name</th><th>Free</th>\n",
       "            <th>Value</th><th>Std</th><th>Min</th><th>Max</th><th>Linear</th></tr><tr><td>A</td><td>Twinned</td><td>30.2662</td>\n",
       "                    <td></td><td>     0</td><td></td><td>True</td></tr><tr><td>centre</td><td>False</td><td>0.8113</td>\n",
       "                    <td></td><td></td><td></td><td>False</td></tr><tr><td>sigma</td><td>False</td><td>0.0527232</td>\n",
       "                    <td></td><td>     0</td><td></td><td>False</td></tr></table><p><b>current_component_values: Cu_Lb3</b><br />Active: True</p><table style=\"width:100%\"><tr><th>Parameter Name</th><th>Free</th>\n",
       "            <th>Value</th><th>Std</th><th>Min</th><th>Max</th><th>Linear</th></tr><tr><td>A</td><td>Twinned</td><td>0.410707</td>\n",
       "                    <td></td><td>     0</td><td></td><td>True</td></tr><tr><td>centre</td><td>False</td><td>1.0225</td>\n",
       "                    <td></td><td></td><td></td><td>False</td></tr><tr><td>sigma</td><td>False</td><td>0.0536186</td>\n",
       "                    <td></td><td>     0</td><td></td><td>False</td></tr></table><p><b>current_component_values: Pt_La</b><br />Active: True</p><table style=\"width:100%\"><tr><th>Parameter Name</th><th>Free</th>\n",
       "            <th>Value</th><th>Std</th><th>Min</th><th>Max</th><th>Linear</th></tr><tr><td>A</td><td>True</td><td>-19.2331</td>\n",
       "                    <td>   nan</td><td>     0</td><td></td><td>True</td></tr><tr><td>centre</td><td>False</td><td>9.4421</td>\n",
       "                    <td></td><td></td><td></td><td>False</td></tr><tr><td>sigma</td><td>False</td><td>0.0816754</td>\n",
       "                    <td></td><td>     0</td><td></td><td>False</td></tr></table><p><b>current_component_values: Pt_Ln</b><br />Active: True</p><table style=\"width:100%\"><tr><th>Parameter Name</th><th>Free</th>\n",
       "            <th>Value</th><th>Std</th><th>Min</th><th>Max</th><th>Linear</th></tr><tr><td>A</td><td>Twinned</td><td>-0.269071</td>\n",
       "                    <td></td><td>     0</td><td></td><td>True</td></tr><tr><td>centre</td><td>False</td><td>9.9766</td>\n",
       "                    <td></td><td></td><td></td><td>False</td></tr><tr><td>sigma</td><td>False</td><td>0.0831375</td>\n",
       "                    <td></td><td>     0</td><td></td><td>False</td></tr></table><p><b>current_component_values: Pt_Ll</b><br />Active: True</p><table style=\"width:100%\"><tr><th>Parameter Name</th><th>Free</th>\n",
       "            <th>Value</th><th>Std</th><th>Min</th><th>Max</th><th>Linear</th></tr><tr><td>A</td><td>Twinned</td><td>-1.06551</td>\n",
       "                    <td></td><td>     0</td><td></td><td>True</td></tr><tr><td>centre</td><td>False</td><td>8.2677</td>\n",
       "                    <td></td><td></td><td></td><td>False</td></tr><tr><td>sigma</td><td>False</td><td>0.0783671</td>\n",
       "                    <td></td><td>     0</td><td></td><td>False</td></tr></table><p><b>current_component_values: Pt_Ma</b><br />Active: True</p><table style=\"width:100%\"><tr><th>Parameter Name</th><th>Free</th>\n",
       "            <th>Value</th><th>Std</th><th>Min</th><th>Max</th><th>Linear</th></tr><tr><td>A</td><td>True</td><td>416.19</td>\n",
       "                    <td>   nan</td><td>     0</td><td></td><td>True</td></tr><tr><td>centre</td><td>False</td><td>2.0505</td>\n",
       "                    <td></td><td></td><td></td><td>False</td></tr><tr><td>sigma</td><td>False</td><td>0.0577791</td>\n",
       "                    <td></td><td>     0</td><td></td><td>False</td></tr></table><p><b>current_component_values: Pt_M2N4</b><br />Active: True</p><table style=\"width:100%\"><tr><th>Parameter Name</th><th>Free</th>\n",
       "            <th>Value</th><th>Std</th><th>Min</th><th>Max</th><th>Linear</th></tr><tr><td>A</td><td>Twinned</td><td>12.0737</td>\n",
       "                    <td></td><td>     0</td><td></td><td>True</td></tr><tr><td>centre</td><td>False</td><td>2.6957</td>\n",
       "                    <td></td><td></td><td></td><td>False</td></tr><tr><td>sigma</td><td>False</td><td>0.0602437</td>\n",
       "                    <td></td><td>     0</td><td></td><td>False</td></tr></table><p><b>current_component_values: Pt_M3O4</b><br />Active: True</p><table style=\"width:100%\"><tr><th>Parameter Name</th><th>Free</th>\n",
       "            <th>Value</th><th>Std</th><th>Min</th><th>Max</th><th>Linear</th></tr><tr><td>A</td><td>Twinned</td><td>2.08095</td>\n",
       "                    <td></td><td>     0</td><td></td><td>True</td></tr><tr><td>centre</td><td>False</td><td>2.63796</td>\n",
       "                    <td></td><td></td><td></td><td>False</td></tr><tr><td>sigma</td><td>False</td><td>0.0600273</td>\n",
       "                    <td></td><td>     0</td><td></td><td>False</td></tr></table><p><b>current_component_values: Pt_Mb</b><br />Active: True</p><table style=\"width:100%\"><tr><th>Parameter Name</th><th>Free</th>\n",
       "            <th>Value</th><th>Std</th><th>Min</th><th>Max</th><th>Linear</th></tr><tr><td>A</td><td>Twinned</td><td>247.396</td>\n",
       "                    <td></td><td>     0</td><td></td><td>True</td></tr><tr><td>centre</td><td>False</td><td>2.1276</td>\n",
       "                    <td></td><td></td><td></td><td>False</td></tr><tr><td>sigma</td><td>False</td><td>0.0580791</td>\n",
       "                    <td></td><td>     0</td><td></td><td>False</td></tr></table><p><b>current_component_values: Pt_Mg</b><br />Active: True</p><table style=\"width:100%\"><tr><th>Parameter Name</th><th>Free</th>\n",
       "            <th>Value</th><th>Std</th><th>Min</th><th>Max</th><th>Linear</th></tr><tr><td>A</td><td>Twinned</td><td>35.3969</td>\n",
       "                    <td></td><td>     0</td><td></td><td>True</td></tr><tr><td>centre</td><td>False</td><td>2.3321</td>\n",
       "                    <td></td><td></td><td></td><td>False</td></tr><tr><td>sigma</td><td>False</td><td>0.0588675</td>\n",
       "                    <td></td><td>     0</td><td></td><td>False</td></tr></table><p><b>current_component_values: Pt_M3O5</b><br />Active: True</p><table style=\"width:100%\"><tr><th>Parameter Name</th><th>Free</th>\n",
       "            <th>Value</th><th>Std</th><th>Min</th><th>Max</th><th>Linear</th></tr><tr><td>A</td><td>Twinned</td><td>4.1619</td>\n",
       "                    <td></td><td>     0</td><td></td><td>True</td></tr><tr><td>centre</td><td>False</td><td>2.63927</td>\n",
       "                    <td></td><td></td><td></td><td>False</td></tr><tr><td>sigma</td><td>False</td><td>0.0600322</td>\n",
       "                    <td></td><td>     0</td><td></td><td>False</td></tr></table><p><b>current_component_values: Pt_Mz</b><br />Active: True</p><table style=\"width:100%\"><tr><th>Parameter Name</th><th>Free</th>\n",
       "            <th>Value</th><th>Std</th><th>Min</th><th>Max</th><th>Linear</th></tr><tr><td>A</td><td>Twinned</td><td>5.59359</td>\n",
       "                    <td></td><td>     0</td><td></td><td>True</td></tr><tr><td>centre</td><td>False</td><td>1.6026</td>\n",
       "                    <td></td><td></td><td></td><td>False</td></tr><tr><td>sigma</td><td>False</td><td>0.0560044</td>\n",
       "                    <td></td><td>     0</td><td></td><td>False</td></tr></table>"
      ],
      "text/plain": [
       "EDSTEMModel: Mean Mask Spectra\n",
       "current_component_values: background_order_6\n",
       "Active: True\n",
       "Parameter Name |    Free |      Value |        Std |        Min |        Max | Linear\n",
       "============== | ======= | ========== | ========== | ========== | ========== | ======\n",
       "            a0 |    True |          0 |       None |       None |       None |   True\n",
       "            a1 |    True |          0 |       None |       None |       None |   True\n",
       "            a2 |    True |          0 |       None |       None |       None |   True\n",
       "            a3 |    True |          0 |       None |       None |       None |   True\n",
       "            a4 |    True |          0 |       None |       None |       None |   True\n",
       "            a5 |    True |          0 |       None |       None |       None |   True\n",
       "            a6 |    True |          0 |       None |       None |       None |   True\n",
       "\n",
       "current_component_values: C_Ka\n",
       "Active: True\n",
       "Parameter Name |    Free |      Value |        Std |        Min |        Max | Linear\n",
       "============== | ======= | ========== | ========== | ========== | ========== | ======\n",
       "             A |    True | 170.139850 |        nan |        0.0 |       None |   True\n",
       "        centre |   False |     0.2774 |       None |       None |       None |  False\n",
       "         sigma |   False | 0.05038882 |       None |        0.0 |       None |  False\n",
       "\n",
       "current_component_values: Cu_Ka\n",
       "Active: True\n",
       "Parameter Name |    Free |      Value |        Std |        Min |        Max | Linear\n",
       "============== | ======= | ========== | ========== | ========== | ========== | ======\n",
       "             A |    True | -18.304477 |        nan |        0.0 |       None |   True\n",
       "        centre |   False |     8.0478 |       None |       None |       None |  False\n",
       "         sigma |   False | 0.07773196 |       None |        0.0 |       None |  False\n",
       "\n",
       "current_component_values: Cu_Kb\n",
       "Active: True\n",
       "Parameter Name |    Free |      Value |        Std |        Min |        Max | Linear\n",
       "============== | ======= | ========== | ========== | ========== | ========== | ======\n",
       "             A | Twinned | -2.4083201 |       None |        0.0 |       None |   True\n",
       "        centre |   False |     8.9053 |       None |       None |       None |  False\n",
       "         sigma |   False | 0.08018014 |       None |        0.0 |       None |  False\n",
       "\n",
       "current_component_values: Cu_La\n",
       "Active: True\n",
       "Parameter Name |    Free |      Value |        Std |        Min |        Max | Linear\n",
       "============== | ======= | ========== | ========== | ========== | ========== | ======\n",
       "             A |    True | 360.269369 |        nan |        0.0 |       None |   True\n",
       "        centre |   False |     0.9295 |       None |       None |       None |  False\n",
       "         sigma |   False | 0.05322619 |       None |        0.0 |       None |  False\n",
       "\n",
       "current_component_values: Cu_Lb1\n",
       "Active: True\n",
       "Parameter Name |    Free |      Value |        Std |        Min |        Max | Linear\n",
       "============== | ======= | ========== | ========== | ========== | ========== | ======\n",
       "             A | Twinned | 11.5178117 |       None |        0.0 |       None |   True\n",
       "        centre |   False |     0.9494 |       None |       None |       None |  False\n",
       "         sigma |   False | 0.05331040 |       None |        0.0 |       None |  False\n",
       "\n",
       "current_component_values: Cu_Ln\n",
       "Active: True\n",
       "Parameter Name |    Free |      Value |        Std |        Min |        Max | Linear\n",
       "============== | ======= | ========== | ========== | ========== | ========== | ======\n",
       "             A | Twinned | 7.14774429 |       None |        0.0 |       None |   True\n",
       "        centre |   False |     0.8312 |       None |       None |       None |  False\n",
       "         sigma |   False | 0.05280823 |       None |        0.0 |       None |  False\n",
       "\n",
       "current_component_values: Cu_Ll\n",
       "Active: True\n",
       "Parameter Name |    Free |      Value |        Std |        Min |        Max | Linear\n",
       "============== | ======= | ========== | ========== | ========== | ========== | ======\n",
       "             A | Twinned | 30.2662297 |       None |        0.0 |       None |   True\n",
       "        centre |   False |     0.8113 |       None |       None |       None |  False\n",
       "         sigma |   False | 0.05272322 |       None |        0.0 |       None |  False\n",
       "\n",
       "current_component_values: Cu_Lb3\n",
       "Active: True\n",
       "Parameter Name |    Free |      Value |        Std |        Min |        Max | Linear\n",
       "============== | ======= | ========== | ========== | ========== | ========== | ======\n",
       "             A | Twinned | 0.41070708 |       None |        0.0 |       None |   True\n",
       "        centre |   False |     1.0225 |       None |       None |       None |  False\n",
       "         sigma |   False | 0.05361861 |       None |        0.0 |       None |  False\n",
       "\n",
       "current_component_values: Pt_La\n",
       "Active: True\n",
       "Parameter Name |    Free |      Value |        Std |        Min |        Max | Linear\n",
       "============== | ======= | ========== | ========== | ========== | ========== | ======\n",
       "             A |    True | -19.233081 |        nan |        0.0 |       None |   True\n",
       "        centre |   False |     9.4421 |       None |       None |       None |  False\n",
       "         sigma |   False | 0.08167537 |       None |        0.0 |       None |  False\n",
       "\n",
       "current_component_values: Pt_Ln\n",
       "Active: True\n",
       "Parameter Name |    Free |      Value |        Std |        Min |        Max | Linear\n",
       "============== | ======= | ========== | ========== | ========== | ========== | ======\n",
       "             A | Twinned | -0.2690708 |       None |        0.0 |       None |   True\n",
       "        centre |   False |     9.9766 |       None |       None |       None |  False\n",
       "         sigma |   False | 0.08313748 |       None |        0.0 |       None |  False\n",
       "\n",
       "current_component_values: Pt_Ll\n",
       "Active: True\n",
       "Parameter Name |    Free |      Value |        Std |        Min |        Max | Linear\n",
       "============== | ======= | ========== | ========== | ========== | ========== | ======\n",
       "             A | Twinned | -1.0655126 |       None |        0.0 |       None |   True\n",
       "        centre |   False |     8.2677 |       None |       None |       None |  False\n",
       "         sigma |   False | 0.07836707 |       None |        0.0 |       None |  False\n",
       "\n",
       "current_component_values: Pt_Ma\n",
       "Active: True\n",
       "Parameter Name |    Free |      Value |        Std |        Min |        Max | Linear\n",
       "============== | ======= | ========== | ========== | ========== | ========== | ======\n",
       "             A |    True | 416.189746 |        nan |        0.0 |       None |   True\n",
       "        centre |   False |     2.0505 |       None |       None |       None |  False\n",
       "         sigma |   False | 0.05777907 |       None |        0.0 |       None |  False\n",
       "\n",
       "current_component_values: Pt_M2N4\n",
       "Active: True\n",
       "Parameter Name |    Free |      Value |        Std |        Min |        Max | Linear\n",
       "============== | ======= | ========== | ========== | ========== | ========== | ======\n",
       "             A | Twinned | 12.0736645 |       None |        0.0 |       None |   True\n",
       "        centre |   False |     2.6957 |       None |       None |       None |  False\n",
       "         sigma |   False | 0.06024371 |       None |        0.0 |       None |  False\n",
       "\n",
       "current_component_values: Pt_M3O4\n",
       "Active: True\n",
       "Parameter Name |    Free |      Value |        Std |        Min |        Max | Linear\n",
       "============== | ======= | ========== | ========== | ========== | ========== | ======\n",
       "             A | Twinned | 2.08094873 |       None |        0.0 |       None |   True\n",
       "        centre |   False |    2.63796 |       None |       None |       None |  False\n",
       "         sigma |   False | 0.06002727 |       None |        0.0 |       None |  False\n",
       "\n",
       "current_component_values: Pt_Mb\n",
       "Active: True\n",
       "Parameter Name |    Free |      Value |        Std |        Min |        Max | Linear\n",
       "============== | ======= | ========== | ========== | ========== | ========== | ======\n",
       "             A | Twinned | 247.395671 |       None |        0.0 |       None |   True\n",
       "        centre |   False |     2.1276 |       None |       None |       None |  False\n",
       "         sigma |   False | 0.05807909 |       None |        0.0 |       None |  False\n",
       "\n",
       "current_component_values: Pt_Mg\n",
       "Active: True\n",
       "Parameter Name |    Free |      Value |        Std |        Min |        Max | Linear\n",
       "============== | ======= | ========== | ========== | ========== | ========== | ======\n",
       "             A | Twinned | 35.3969379 |       None |        0.0 |       None |   True\n",
       "        centre |   False |     2.3321 |       None |       None |       None |  False\n",
       "         sigma |   False | 0.05886746 |       None |        0.0 |       None |  False\n",
       "\n",
       "current_component_values: Pt_M3O5\n",
       "Active: True\n",
       "Parameter Name |    Free |      Value |        Std |        Min |        Max | Linear\n",
       "============== | ======= | ========== | ========== | ========== | ========== | ======\n",
       "             A | Twinned | 4.16189746 |       None |        0.0 |       None |   True\n",
       "        centre |   False |    2.63927 |       None |       None |       None |  False\n",
       "         sigma |   False | 0.06003219 |       None |        0.0 |       None |  False\n",
       "\n",
       "current_component_values: Pt_Mz\n",
       "Active: True\n",
       "Parameter Name |    Free |      Value |        Std |        Min |        Max | Linear\n",
       "============== | ======= | ========== | ========== | ========== | ========== | ======\n",
       "             A | Twinned | 5.59359019 |       None |        0.0 |       None |   True\n",
       "        centre |   False |     1.6026 |       None |       None |       None |  False\n",
       "         sigma |   False | 0.05600437 |       None |        0.0 |       None |  False\n"
      ]
     },
     "metadata": {},
     "output_type": "display_data"
    }
   ],
   "source": [
    "m = mean_spectrum_mask.create_model()\n",
    "m.print_current_values()"
   ]
  },
  {
   "cell_type": "code",
   "execution_count": 121,
   "id": "cec90b44",
   "metadata": {},
   "outputs": [
    {
     "data": {
      "text/plain": [
       " message: Both actual and predicted relative reductions in the sum of squares\n",
       "            are at most 0.000000\n",
       " success: True\n",
       "  status: 1\n",
       "     fun: [ 5.336e-01  6.094e-01 ... -7.581e-01 -8.002e-01]\n",
       "       x: [ 1.234e+02  6.374e+02 -6.028e+02  2.222e+02 -3.968e+01\n",
       "            3.378e+00 -1.096e-01  1.521e+02  9.798e+00  2.998e+02\n",
       "           -1.299e+01  3.111e+02]\n",
       "   covar: [[ 3.386e+02 -7.334e+02 ...  4.974e+00  2.753e+00]\n",
       "           [-7.334e+02  2.752e+03 ... -3.789e+01 -3.780e+00]\n",
       "           ...\n",
       "           [ 4.974e+00 -3.789e+01 ...  3.835e+01 -6.445e-01]\n",
       "           [ 2.753e+00 -3.780e+00 ... -6.445e-01  1.131e+01]]\n",
       "    nfev: 53"
      ]
     },
     "execution_count": 121,
     "metadata": {},
     "output_type": "execute_result"
    }
   ],
   "source": [
    "m.fit()"
   ]
  },
  {
   "cell_type": "code",
   "execution_count": 122,
   "id": "e8b1a09e",
   "metadata": {},
   "outputs": [],
   "source": [
    "m.fit_background()"
   ]
  },
  {
   "cell_type": "code",
   "execution_count": 123,
   "id": "42fa9494",
   "metadata": {},
   "outputs": [],
   "source": [
    "m.calibrate_energy_axis(calibrate='resolution')"
   ]
  },
  {
   "cell_type": "code",
   "execution_count": 124,
   "id": "28eaba4f",
   "metadata": {},
   "outputs": [],
   "source": [
    "m.plot(True, background_windows=bw, navigator='slider')"
   ]
  },
  {
   "cell_type": "markdown",
   "id": "be08bdbc",
   "metadata": {},
   "source": [
    "### Removing background frame"
   ]
  },
  {
   "cell_type": "code",
   "execution_count": 125,
   "id": "b0b14b79",
   "metadata": {},
   "outputs": [
    {
     "name": "stdout",
     "output_type": "stream",
     "text": [
      "Pt_Ma at 2.0505 keV : Intensity = 267.40\n"
     ]
    },
    {
     "data": {
      "text/plain": [
       "[<BaseSignal, title: X-ray line intensity of Mean Frame Spectra: Pt_Ma at 2.05 keV, dimensions: (1|)>]"
      ]
     },
     "execution_count": 125,
     "metadata": {},
     "output_type": "execute_result"
    }
   ],
   "source": [
    "bwf = mean_spectrum_frame.estimate_background_windows(line_width=[2.9, 4.5])\n",
    "mean_spectrum_frame.plot(background_windows=bwf)\n",
    "       \n",
    "mean_spectrum_frame.get_lines_intensity(background_windows=bwf, \n",
    "                                       plot_result=True)"
   ]
  },
  {
   "cell_type": "code",
   "execution_count": 112,
   "id": "3f4b674d",
   "metadata": {},
   "outputs": [],
   "source": [
    "mean_spectrum_frame.add_elements(['Pt', 'C', 'Cu'])\n",
    "mean_spectrum_frame.set_microscope_parameters(beam_energy=20)"
   ]
  },
  {
   "cell_type": "code",
   "execution_count": 113,
   "id": "1a313729",
   "metadata": {},
   "outputs": [
    {
     "data": {
      "text/html": [
       "<h4>EDSTEMModel: Mean Frame Spectra</h4><p><b>current_component_values: background_order_6</b><br />Active: True</p><table style=\"width:100%\"><tr><th>Parameter Name</th><th>Free</th>\n",
       "            <th>Value</th><th>Std</th><th>Min</th><th>Max</th><th>Linear</th></tr><tr><td>a0</td><td>True</td><td>     0</td>\n",
       "                    <td></td><td></td><td></td><td>True</td></tr><tr><td>a1</td><td>True</td><td>     0</td>\n",
       "                    <td></td><td></td><td></td><td>True</td></tr><tr><td>a2</td><td>True</td><td>     0</td>\n",
       "                    <td></td><td></td><td></td><td>True</td></tr><tr><td>a3</td><td>True</td><td>     0</td>\n",
       "                    <td></td><td></td><td></td><td>True</td></tr><tr><td>a4</td><td>True</td><td>     0</td>\n",
       "                    <td></td><td></td><td></td><td>True</td></tr><tr><td>a5</td><td>True</td><td>     0</td>\n",
       "                    <td></td><td></td><td></td><td>True</td></tr><tr><td>a6</td><td>True</td><td>     0</td>\n",
       "                    <td></td><td></td><td></td><td>True</td></tr></table><p><b>current_component_values: C_Ka</b><br />Active: True</p><table style=\"width:100%\"><tr><th>Parameter Name</th><th>Free</th>\n",
       "            <th>Value</th><th>Std</th><th>Min</th><th>Max</th><th>Linear</th></tr><tr><td>A</td><td>True</td><td>144.269</td>\n",
       "                    <td>   nan</td><td>     0</td><td></td><td>True</td></tr><tr><td>centre</td><td>False</td><td>0.2774</td>\n",
       "                    <td></td><td></td><td></td><td>False</td></tr><tr><td>sigma</td><td>False</td><td>0.0482796</td>\n",
       "                    <td></td><td>     0</td><td></td><td>False</td></tr></table><p><b>current_component_values: Cu_Ka</b><br />Active: True</p><table style=\"width:100%\"><tr><th>Parameter Name</th><th>Free</th>\n",
       "            <th>Value</th><th>Std</th><th>Min</th><th>Max</th><th>Linear</th></tr><tr><td>A</td><td>True</td><td>-17.9865</td>\n",
       "                    <td>   nan</td><td>     0</td><td></td><td>True</td></tr><tr><td>centre</td><td>False</td><td>8.0478</td>\n",
       "                    <td></td><td></td><td></td><td>False</td></tr><tr><td>sigma</td><td>False</td><td>0.0763815</td>\n",
       "                    <td></td><td>     0</td><td></td><td>False</td></tr></table><p><b>current_component_values: Cu_Kb</b><br />Active: True</p><table style=\"width:100%\"><tr><th>Parameter Name</th><th>Free</th>\n",
       "            <th>Value</th><th>Std</th><th>Min</th><th>Max</th><th>Linear</th></tr><tr><td>A</td><td>Twinned</td><td>-2.36648</td>\n",
       "                    <td></td><td>     0</td><td></td><td>True</td></tr><tr><td>centre</td><td>False</td><td>8.9053</td>\n",
       "                    <td></td><td></td><td></td><td>False</td></tr><tr><td>sigma</td><td>False</td><td>0.0788717</td>\n",
       "                    <td></td><td>     0</td><td></td><td>False</td></tr></table><p><b>current_component_values: Cu_La</b><br />Active: True</p><table style=\"width:100%\"><tr><th>Parameter Name</th><th>Free</th>\n",
       "            <th>Value</th><th>Std</th><th>Min</th><th>Max</th><th>Linear</th></tr><tr><td>A</td><td>True</td><td>218.808</td>\n",
       "                    <td>   nan</td><td>     0</td><td></td><td>True</td></tr><tr><td>centre</td><td>False</td><td>0.9295</td>\n",
       "                    <td></td><td></td><td></td><td>False</td></tr><tr><td>sigma</td><td>False</td><td>0.0512339</td>\n",
       "                    <td></td><td>     0</td><td></td><td>False</td></tr></table><p><b>current_component_values: Cu_Lb1</b><br />Active: True</p><table style=\"width:100%\"><tr><th>Parameter Name</th><th>Free</th>\n",
       "            <th>Value</th><th>Std</th><th>Min</th><th>Max</th><th>Linear</th></tr><tr><td>A</td><td>Twinned</td><td>6.99529</td>\n",
       "                    <td></td><td>     0</td><td></td><td>True</td></tr><tr><td>centre</td><td>False</td><td>0.9494</td>\n",
       "                    <td></td><td></td><td></td><td>False</td></tr><tr><td>sigma</td><td>False</td><td>0.0513214</td>\n",
       "                    <td></td><td>     0</td><td></td><td>False</td></tr></table><p><b>current_component_values: Cu_Ln</b><br />Active: True</p><table style=\"width:100%\"><tr><th>Parameter Name</th><th>Free</th>\n",
       "            <th>Value</th><th>Std</th><th>Min</th><th>Max</th><th>Linear</th></tr><tr><td>A</td><td>Twinned</td><td>4.34115</td>\n",
       "                    <td></td><td>     0</td><td></td><td>True</td></tr><tr><td>centre</td><td>False</td><td>0.8312</td>\n",
       "                    <td></td><td></td><td></td><td>False</td></tr><tr><td>sigma</td><td>False</td><td>0.0507995</td>\n",
       "                    <td></td><td>     0</td><td></td><td>False</td></tr></table><p><b>current_component_values: Cu_Ll</b><br />Active: True</p><table style=\"width:100%\"><tr><th>Parameter Name</th><th>Free</th>\n",
       "            <th>Value</th><th>Std</th><th>Min</th><th>Max</th><th>Linear</th></tr><tr><td>A</td><td>Twinned</td><td>18.382</td>\n",
       "                    <td></td><td>     0</td><td></td><td>True</td></tr><tr><td>centre</td><td>False</td><td>0.8113</td>\n",
       "                    <td></td><td></td><td></td><td>False</td></tr><tr><td>sigma</td><td>False</td><td>0.0507111</td>\n",
       "                    <td></td><td>     0</td><td></td><td>False</td></tr></table><p><b>current_component_values: Cu_Lb3</b><br />Active: True</p><table style=\"width:100%\"><tr><th>Parameter Name</th><th>Free</th>\n",
       "            <th>Value</th><th>Std</th><th>Min</th><th>Max</th><th>Linear</th></tr><tr><td>A</td><td>Twinned</td><td>0.249441</td>\n",
       "                    <td></td><td>     0</td><td></td><td>True</td></tr><tr><td>centre</td><td>False</td><td>1.0225</td>\n",
       "                    <td></td><td></td><td></td><td>False</td></tr><tr><td>sigma</td><td>False</td><td>0.0516414</td>\n",
       "                    <td></td><td>     0</td><td></td><td>False</td></tr></table><p><b>current_component_values: Pt_La</b><br />Active: True</p><table style=\"width:100%\"><tr><th>Parameter Name</th><th>Free</th>\n",
       "            <th>Value</th><th>Std</th><th>Min</th><th>Max</th><th>Linear</th></tr><tr><td>A</td><td>True</td><td>-18.9307</td>\n",
       "                    <td>   nan</td><td>     0</td><td></td><td>True</td></tr><tr><td>centre</td><td>False</td><td>9.4421</td>\n",
       "                    <td></td><td></td><td></td><td>False</td></tr><tr><td>sigma</td><td>False</td><td>0.0803912</td>\n",
       "                    <td></td><td>     0</td><td></td><td>False</td></tr></table><p><b>current_component_values: Pt_Ln</b><br />Active: True</p><table style=\"width:100%\"><tr><th>Parameter Name</th><th>Free</th>\n",
       "            <th>Value</th><th>Std</th><th>Min</th><th>Max</th><th>Linear</th></tr><tr><td>A</td><td>Twinned</td><td>-0.26484</td>\n",
       "                    <td></td><td>     0</td><td></td><td>True</td></tr><tr><td>centre</td><td>False</td><td>9.9766</td>\n",
       "                    <td></td><td></td><td></td><td>False</td></tr><tr><td>sigma</td><td>False</td><td>0.0818763</td>\n",
       "                    <td></td><td>     0</td><td></td><td>False</td></tr></table><p><b>current_component_values: Pt_Ll</b><br />Active: True</p><table style=\"width:100%\"><tr><th>Parameter Name</th><th>Free</th>\n",
       "            <th>Value</th><th>Std</th><th>Min</th><th>Max</th><th>Linear</th></tr><tr><td>A</td><td>Twinned</td><td>-1.04876</td>\n",
       "                    <td></td><td>     0</td><td></td><td>True</td></tr><tr><td>centre</td><td>False</td><td>8.2677</td>\n",
       "                    <td></td><td></td><td></td><td>False</td></tr><tr><td>sigma</td><td>False</td><td>0.0770278</td>\n",
       "                    <td></td><td>     0</td><td></td><td>False</td></tr></table><p><b>current_component_values: Pt_Ma</b><br />Active: True</p><table style=\"width:100%\"><tr><th>Parameter Name</th><th>Free</th>\n",
       "            <th>Value</th><th>Std</th><th>Min</th><th>Max</th><th>Linear</th></tr><tr><td>A</td><td>True</td><td>247.453</td>\n",
       "                    <td>   nan</td><td>     0</td><td></td><td>True</td></tr><tr><td>centre</td><td>False</td><td>2.0505</td>\n",
       "                    <td></td><td></td><td></td><td>False</td></tr><tr><td>sigma</td><td>False</td><td>0.0559491</td>\n",
       "                    <td></td><td>     0</td><td></td><td>False</td></tr></table><p><b>current_component_values: Pt_M2N4</b><br />Active: True</p><table style=\"width:100%\"><tr><th>Parameter Name</th><th>Free</th>\n",
       "            <th>Value</th><th>Std</th><th>Min</th><th>Max</th><th>Linear</th></tr><tr><td>A</td><td>Twinned</td><td>7.1786</td>\n",
       "                    <td></td><td>     0</td><td></td><td>True</td></tr><tr><td>centre</td><td>False</td><td>2.6957</td>\n",
       "                    <td></td><td></td><td></td><td>False</td></tr><tr><td>sigma</td><td>False</td><td>0.0584909</td>\n",
       "                    <td></td><td>     0</td><td></td><td>False</td></tr></table><p><b>current_component_values: Pt_M3O4</b><br />Active: True</p><table style=\"width:100%\"><tr><th>Parameter Name</th><th>Free</th>\n",
       "            <th>Value</th><th>Std</th><th>Min</th><th>Max</th><th>Linear</th></tr><tr><td>A</td><td>Twinned</td><td>1.23726</td>\n",
       "                    <td></td><td>     0</td><td></td><td>True</td></tr><tr><td>centre</td><td>False</td><td>2.63796</td>\n",
       "                    <td></td><td></td><td></td><td>False</td></tr><tr><td>sigma</td><td>False</td><td>0.058268</td>\n",
       "                    <td></td><td>     0</td><td></td><td>False</td></tr></table><p><b>current_component_values: Pt_Mb</b><br />Active: True</p><table style=\"width:100%\"><tr><th>Parameter Name</th><th>Free</th>\n",
       "            <th>Value</th><th>Std</th><th>Min</th><th>Max</th><th>Linear</th></tr><tr><td>A</td><td>Twinned</td><td>147.093</td>\n",
       "                    <td></td><td>     0</td><td></td><td>True</td></tr><tr><td>centre</td><td>False</td><td>2.1276</td>\n",
       "                    <td></td><td></td><td></td><td>False</td></tr><tr><td>sigma</td><td>False</td><td>0.0562589</td>\n",
       "                    <td></td><td>     0</td><td></td><td>False</td></tr></table><p><b>current_component_values: Pt_Mg</b><br />Active: True</p><table style=\"width:100%\"><tr><th>Parameter Name</th><th>Free</th>\n",
       "            <th>Value</th><th>Std</th><th>Min</th><th>Max</th><th>Linear</th></tr><tr><td>A</td><td>Twinned</td><td>21.0458</td>\n",
       "                    <td></td><td>     0</td><td></td><td>True</td></tr><tr><td>centre</td><td>False</td><td>2.3321</td>\n",
       "                    <td></td><td></td><td></td><td>False</td></tr><tr><td>sigma</td><td>False</td><td>0.0570724</td>\n",
       "                    <td></td><td>     0</td><td></td><td>False</td></tr></table><p><b>current_component_values: Pt_M3O5</b><br />Active: True</p><table style=\"width:100%\"><tr><th>Parameter Name</th><th>Free</th>\n",
       "            <th>Value</th><th>Std</th><th>Min</th><th>Max</th><th>Linear</th></tr><tr><td>A</td><td>Twinned</td><td>2.47453</td>\n",
       "                    <td></td><td>     0</td><td></td><td>True</td></tr><tr><td>centre</td><td>False</td><td>2.63927</td>\n",
       "                    <td></td><td></td><td></td><td>False</td></tr><tr><td>sigma</td><td>False</td><td>0.058273</td>\n",
       "                    <td></td><td>     0</td><td></td><td>False</td></tr></table><p><b>current_component_values: Pt_Mz</b><br />Active: True</p><table style=\"width:100%\"><tr><th>Parameter Name</th><th>Free</th>\n",
       "            <th>Value</th><th>Std</th><th>Min</th><th>Max</th><th>Linear</th></tr><tr><td>A</td><td>Twinned</td><td>3.32576</td>\n",
       "                    <td></td><td>     0</td><td></td><td>True</td></tr><tr><td>centre</td><td>False</td><td>1.6026</td>\n",
       "                    <td></td><td></td><td></td><td>False</td></tr><tr><td>sigma</td><td>False</td><td>0.0541144</td>\n",
       "                    <td></td><td>     0</td><td></td><td>False</td></tr></table>"
      ],
      "text/plain": [
       "EDSTEMModel: Mean Frame Spectra\n",
       "current_component_values: background_order_6\n",
       "Active: True\n",
       "Parameter Name |    Free |      Value |        Std |        Min |        Max | Linear\n",
       "============== | ======= | ========== | ========== | ========== | ========== | ======\n",
       "            a0 |    True |          0 |       None |       None |       None |   True\n",
       "            a1 |    True |          0 |       None |       None |       None |   True\n",
       "            a2 |    True |          0 |       None |       None |       None |   True\n",
       "            a3 |    True |          0 |       None |       None |       None |   True\n",
       "            a4 |    True |          0 |       None |       None |       None |   True\n",
       "            a5 |    True |          0 |       None |       None |       None |   True\n",
       "            a6 |    True |          0 |       None |       None |       None |   True\n",
       "\n",
       "current_component_values: C_Ka\n",
       "Active: True\n",
       "Parameter Name |    Free |      Value |        Std |        Min |        Max | Linear\n",
       "============== | ======= | ========== | ========== | ========== | ========== | ======\n",
       "             A |    True | 144.269097 |        nan |        0.0 |       None |   True\n",
       "        centre |   False |     0.2774 |       None |       None |       None |  False\n",
       "         sigma |   False | 0.04827955 |       None |        0.0 |       None |  False\n",
       "\n",
       "current_component_values: Cu_Ka\n",
       "Active: True\n",
       "Parameter Name |    Free |      Value |        Std |        Min |        Max | Linear\n",
       "============== | ======= | ========== | ========== | ========== | ========== | ======\n",
       "             A |    True | -17.986478 |        nan |        0.0 |       None |   True\n",
       "        centre |   False |     8.0478 |       None |       None |       None |  False\n",
       "         sigma |   False | 0.07638154 |       None |        0.0 |       None |  False\n",
       "\n",
       "current_component_values: Cu_Kb\n",
       "Active: True\n",
       "Parameter Name |    Free |      Value |        Std |        Min |        Max | Linear\n",
       "============== | ======= | ========== | ========== | ========== | ========== | ======\n",
       "             A | Twinned | -2.3664810 |       None |        0.0 |       None |   True\n",
       "        centre |   False |     8.9053 |       None |       None |       None |  False\n",
       "         sigma |   False | 0.07887165 |       None |        0.0 |       None |  False\n",
       "\n",
       "current_component_values: Cu_La\n",
       "Active: True\n",
       "Parameter Name |    Free |      Value |        Std |        Min |        Max | Linear\n",
       "============== | ======= | ========== | ========== | ========== | ========== | ======\n",
       "             A |    True | 218.807835 |        nan |        0.0 |       None |   True\n",
       "        centre |   False |     0.9295 |       None |       None |       None |  False\n",
       "         sigma |   False | 0.05123387 |       None |        0.0 |       None |  False\n",
       "\n",
       "current_component_values: Cu_Lb1\n",
       "Active: True\n",
       "Parameter Name |    Free |      Value |        Std |        Min |        Max | Linear\n",
       "============== | ======= | ========== | ========== | ========== | ========== | ======\n",
       "             A | Twinned | 6.99528648 |       None |        0.0 |       None |   True\n",
       "        centre |   False |     0.9494 |       None |       None |       None |  False\n",
       "         sigma |   False | 0.05132135 |       None |        0.0 |       None |  False\n",
       "\n",
       "current_component_values: Cu_Ln\n",
       "Active: True\n",
       "Parameter Name |    Free |      Value |        Std |        Min |        Max | Linear\n",
       "============== | ======= | ========== | ========== | ========== | ========== | ======\n",
       "             A | Twinned | 4.34114744 |       None |        0.0 |       None |   True\n",
       "        centre |   False |     0.8312 |       None |       None |       None |  False\n",
       "         sigma |   False | 0.05079953 |       None |        0.0 |       None |  False\n",
       "\n",
       "current_component_values: Cu_Ll\n",
       "Active: True\n",
       "Parameter Name |    Free |      Value |        Std |        Min |        Max | Linear\n",
       "============== | ======= | ========== | ========== | ========== | ========== | ======\n",
       "             A | Twinned | 18.3820462 |       None |        0.0 |       None |   True\n",
       "        centre |   False |     0.8113 |       None |       None |       None |  False\n",
       "         sigma |   False | 0.05071114 |       None |        0.0 |       None |  False\n",
       "\n",
       "current_component_values: Cu_Lb3\n",
       "Active: True\n",
       "Parameter Name |    Free |      Value |        Std |        Min |        Max | Linear\n",
       "============== | ======= | ========== | ========== | ========== | ========== | ======\n",
       "             A | Twinned | 0.24944093 |       None |        0.0 |       None |   True\n",
       "        centre |   False |     1.0225 |       None |       None |       None |  False\n",
       "         sigma |   False | 0.05164144 |       None |        0.0 |       None |  False\n",
       "\n",
       "current_component_values: Pt_La\n",
       "Active: True\n",
       "Parameter Name |    Free |      Value |        Std |        Min |        Max | Linear\n",
       "============== | ======= | ========== | ========== | ========== | ========== | ======\n",
       "             A |    True | -18.930687 |        nan |        0.0 |       None |   True\n",
       "        centre |   False |     9.4421 |       None |       None |       None |  False\n",
       "         sigma |   False | 0.08039122 |       None |        0.0 |       None |  False\n",
       "\n",
       "current_component_values: Pt_Ln\n",
       "Active: True\n",
       "Parameter Name |    Free |      Value |        Std |        Min |        Max | Linear\n",
       "============== | ======= | ========== | ========== | ========== | ========== | ======\n",
       "             A | Twinned | -0.2648403 |       None |        0.0 |       None |   True\n",
       "        centre |   False |     9.9766 |       None |       None |       None |  False\n",
       "         sigma |   False | 0.08187627 |       None |        0.0 |       None |  False\n",
       "\n",
       "current_component_values: Pt_Ll\n",
       "Active: True\n",
       "Parameter Name |    Free |      Value |        Std |        Min |        Max | Linear\n",
       "============== | ======= | ========== | ========== | ========== | ========== | ======\n",
       "             A | Twinned | -1.0487600 |       None |        0.0 |       None |   True\n",
       "        centre |   False |     8.2677 |       None |       None |       None |  False\n",
       "         sigma |   False | 0.07702778 |       None |        0.0 |       None |  False\n",
       "\n",
       "current_component_values: Pt_Ma\n",
       "Active: True\n",
       "Parameter Name |    Free |      Value |        Std |        Min |        Max | Linear\n",
       "============== | ======= | ========== | ========== | ========== | ========== | ======\n",
       "             A |    True | 247.452673 |        nan |        0.0 |       None |   True\n",
       "        centre |   False |     2.0505 |       None |       None |       None |  False\n",
       "         sigma |   False | 0.05594912 |       None |        0.0 |       None |  False\n",
       "\n",
       "current_component_values: Pt_M2N4\n",
       "Active: True\n",
       "Parameter Name |    Free |      Value |        Std |        Min |        Max | Linear\n",
       "============== | ======= | ========== | ========== | ========== | ========== | ======\n",
       "             A | Twinned | 7.17860205 |       None |        0.0 |       None |   True\n",
       "        centre |   False |     2.6957 |       None |       None |       None |  False\n",
       "         sigma |   False | 0.05849091 |       None |        0.0 |       None |  False\n",
       "\n",
       "current_component_values: Pt_M3O4\n",
       "Active: True\n",
       "Parameter Name |    Free |      Value |        Std |        Min |        Max | Linear\n",
       "============== | ======= | ========== | ========== | ========== | ========== | ======\n",
       "             A | Twinned | 1.23726336 |       None |        0.0 |       None |   True\n",
       "        centre |   False |    2.63796 |       None |       None |       None |  False\n",
       "         sigma |   False | 0.05826796 |       None |        0.0 |       None |  False\n",
       "\n",
       "current_component_values: Pt_Mb\n",
       "Active: True\n",
       "Parameter Name |    Free |      Value |        Std |        Min |        Max | Linear\n",
       "============== | ======= | ========== | ========== | ========== | ========== | ======\n",
       "             A | Twinned | 147.093292 |       None |        0.0 |       None |   True\n",
       "        centre |   False |     2.1276 |       None |       None |       None |  False\n",
       "         sigma |   False | 0.05625890 |       None |        0.0 |       None |  False\n",
       "\n",
       "current_component_values: Pt_Mg\n",
       "Active: True\n",
       "Parameter Name |    Free |      Value |        Std |        Min |        Max | Linear\n",
       "============== | ======= | ========== | ========== | ========== | ========== | ======\n",
       "             A | Twinned | 21.0458498 |       None |        0.0 |       None |   True\n",
       "        centre |   False |     2.3321 |       None |       None |       None |  False\n",
       "         sigma |   False | 0.05707242 |       None |        0.0 |       None |  False\n",
       "\n",
       "current_component_values: Pt_M3O5\n",
       "Active: True\n",
       "Parameter Name |    Free |      Value |        Std |        Min |        Max | Linear\n",
       "============== | ======= | ========== | ========== | ========== | ========== | ======\n",
       "             A | Twinned | 2.47452673 |       None |        0.0 |       None |   True\n",
       "        centre |   False |    2.63927 |       None |       None |       None |  False\n",
       "         sigma |   False | 0.05827303 |       None |        0.0 |       None |  False\n",
       "\n",
       "current_component_values: Pt_Mz\n",
       "Active: True\n",
       "Parameter Name |    Free |      Value |        Std |        Min |        Max | Linear\n",
       "============== | ======= | ========== | ========== | ========== | ========== | ======\n",
       "             A | Twinned | 3.32576392 |       None |        0.0 |       None |   True\n",
       "        centre |   False |     1.6026 |       None |       None |       None |  False\n",
       "         sigma |   False | 0.05411443 |       None |        0.0 |       None |  False\n"
      ]
     },
     "metadata": {},
     "output_type": "display_data"
    }
   ],
   "source": [
    "mf = mean_spectrum_frame.create_model()\n",
    "mf.print_current_values()"
   ]
  },
  {
   "cell_type": "code",
   "execution_count": 114,
   "id": "7a92687c",
   "metadata": {},
   "outputs": [
    {
     "data": {
      "text/plain": [
       " message: Both actual and predicted relative reductions in the sum of squares\n",
       "            are at most 0.000000\n",
       " success: True\n",
       "  status: 1\n",
       "     fun: [ 5.144e-01  5.584e-01 ... -5.423e-01 -5.724e-01]\n",
       "       x: [ 9.383e+01  3.845e+02 -3.797e+02  1.439e+02 -2.628e+01\n",
       "            2.275e+00 -7.473e-02  1.364e+02  7.070e+00  1.843e+02\n",
       "           -9.146e+00  1.885e+02]\n",
       "   covar: [[ 3.363e+02 -7.311e+02 ...  4.907e+00  2.671e+00]\n",
       "           [-7.311e+02  2.741e+03 ... -3.710e+01 -3.587e+00]\n",
       "           ...\n",
       "           [ 4.907e+00 -3.710e+01 ...  3.756e+01 -6.179e-01]\n",
       "           [ 2.671e+00 -3.587e+00 ... -6.179e-01  1.103e+01]]\n",
       "    nfev: 53"
      ]
     },
     "execution_count": 114,
     "metadata": {},
     "output_type": "execute_result"
    }
   ],
   "source": [
    "mf.fit()"
   ]
  },
  {
   "cell_type": "code",
   "execution_count": 115,
   "id": "20568f2d",
   "metadata": {},
   "outputs": [],
   "source": [
    "mf.fit_background()"
   ]
  },
  {
   "cell_type": "code",
   "execution_count": 116,
   "id": "0f1d32f9",
   "metadata": {},
   "outputs": [],
   "source": [
    "mf.calibrate_energy_axis(calibrate='resolution')"
   ]
  },
  {
   "cell_type": "code",
   "execution_count": 117,
   "id": "6d95768e",
   "metadata": {},
   "outputs": [],
   "source": [
    "mf.plot(True, background_windows=bwf, navigator='slider')"
   ]
  },
  {
   "cell_type": "code",
   "execution_count": null,
   "id": "4b1c9590",
   "metadata": {},
   "outputs": [],
   "source": []
  },
  {
   "cell_type": "code",
   "execution_count": null,
   "id": "6b98b939",
   "metadata": {},
   "outputs": [],
   "source": []
  },
  {
   "cell_type": "code",
   "execution_count": null,
   "id": "50ab9c82",
   "metadata": {},
   "outputs": [],
   "source": []
  },
  {
   "cell_type": "code",
   "execution_count": null,
   "id": "7a8cc3ee",
   "metadata": {},
   "outputs": [],
   "source": []
  },
  {
   "cell_type": "code",
   "execution_count": null,
   "id": "2911f2f9",
   "metadata": {},
   "outputs": [],
   "source": []
  },
  {
   "cell_type": "code",
   "execution_count": null,
   "id": "87a2c663",
   "metadata": {},
   "outputs": [],
   "source": []
  },
  {
   "cell_type": "code",
   "execution_count": null,
   "id": "6657678f",
   "metadata": {},
   "outputs": [],
   "source": []
  },
  {
   "cell_type": "markdown",
   "id": "4781b714",
   "metadata": {},
   "source": [
    "### EDS curve fitting "
   ]
  },
  {
   "cell_type": "code",
   "execution_count": 39,
   "id": "2ca20745",
   "metadata": {},
   "outputs": [],
   "source": [
    "s1.add_elements(['Pt', 'C', 'Cu'])\n",
    "s1.set_microscope_parameters(beam_energy=20)"
   ]
  },
  {
   "cell_type": "code",
   "execution_count": 40,
   "id": "f31b2b6a",
   "metadata": {
    "scrolled": true
   },
   "outputs": [
    {
     "data": {
      "text/html": [
       "<h4>EDSTEMModel: EDS map</h4><p><b>current_component_values: background_order_6</b><br />Active: True</p><table style=\"width:100%\"><tr><th>Parameter Name</th><th>Free</th>\n",
       "            <th>Value</th><th>Std</th><th>Min</th><th>Max</th><th>Linear</th></tr><tr><td>a0</td><td>True</td><td>     0</td>\n",
       "                    <td></td><td></td><td></td><td>True</td></tr><tr><td>a1</td><td>True</td><td>     0</td>\n",
       "                    <td></td><td></td><td></td><td>True</td></tr><tr><td>a2</td><td>True</td><td>     0</td>\n",
       "                    <td></td><td></td><td></td><td>True</td></tr><tr><td>a3</td><td>True</td><td>     0</td>\n",
       "                    <td></td><td></td><td></td><td>True</td></tr><tr><td>a4</td><td>True</td><td>     0</td>\n",
       "                    <td></td><td></td><td></td><td>True</td></tr><tr><td>a5</td><td>True</td><td>     0</td>\n",
       "                    <td></td><td></td><td></td><td>True</td></tr><tr><td>a6</td><td>True</td><td>     0</td>\n",
       "                    <td></td><td></td><td></td><td>True</td></tr></table><p><b>current_component_values: Pt_Ma</b><br />Active: True</p><table style=\"width:100%\"><tr><th>Parameter Name</th><th>Free</th>\n",
       "            <th>Value</th><th>Std</th><th>Min</th><th>Max</th><th>Linear</th></tr><tr><td>A</td><td>True</td><td>221.832</td>\n",
       "                    <td>   nan</td><td>     0</td><td></td><td>True</td></tr><tr><td>centre</td><td>False</td><td>2.0505</td>\n",
       "                    <td></td><td></td><td></td><td>False</td></tr><tr><td>sigma</td><td>False</td><td>0.0362321</td>\n",
       "                    <td></td><td>     0</td><td></td><td>False</td></tr></table><p><b>current_component_values: Pt_M2N4</b><br />Active: True</p><table style=\"width:100%\"><tr><th>Parameter Name</th><th>Free</th>\n",
       "            <th>Value</th><th>Std</th><th>Min</th><th>Max</th><th>Linear</th></tr><tr><td>A</td><td>Twinned</td><td>6.43535</td>\n",
       "                    <td></td><td>     0</td><td></td><td>True</td></tr><tr><td>centre</td><td>False</td><td>2.6957</td>\n",
       "                    <td></td><td></td><td></td><td>False</td></tr><tr><td>sigma</td><td>False</td><td>0.0400455</td>\n",
       "                    <td></td><td>     0</td><td></td><td>False</td></tr></table><p><b>current_component_values: Pt_M3O4</b><br />Active: True</p><table style=\"width:100%\"><tr><th>Parameter Name</th><th>Free</th>\n",
       "            <th>Value</th><th>Std</th><th>Min</th><th>Max</th><th>Linear</th></tr><tr><td>A</td><td>Twinned</td><td>1.10916</td>\n",
       "                    <td></td><td>     0</td><td></td><td>True</td></tr><tr><td>centre</td><td>False</td><td>2.63796</td>\n",
       "                    <td></td><td></td><td></td><td>False</td></tr><tr><td>sigma</td><td>False</td><td>0.0397192</td>\n",
       "                    <td></td><td>     0</td><td></td><td>False</td></tr></table><p><b>current_component_values: Pt_Mb</b><br />Active: True</p><table style=\"width:100%\"><tr><th>Parameter Name</th><th>Free</th>\n",
       "            <th>Value</th><th>Std</th><th>Min</th><th>Max</th><th>Linear</th></tr><tr><td>A</td><td>Twinned</td><td>131.864</td>\n",
       "                    <td></td><td>     0</td><td></td><td>True</td></tr><tr><td>centre</td><td>False</td><td>2.1276</td>\n",
       "                    <td></td><td></td><td></td><td>False</td></tr><tr><td>sigma</td><td>False</td><td>0.0367086</td>\n",
       "                    <td></td><td>     0</td><td></td><td>False</td></tr></table><p><b>current_component_values: Pt_Mg</b><br />Active: True</p><table style=\"width:100%\"><tr><th>Parameter Name</th><th>Free</th>\n",
       "            <th>Value</th><th>Std</th><th>Min</th><th>Max</th><th>Linear</th></tr><tr><td>A</td><td>Twinned</td><td>18.8668</td>\n",
       "                    <td></td><td>     0</td><td></td><td>True</td></tr><tr><td>centre</td><td>False</td><td>2.3321</td>\n",
       "                    <td></td><td></td><td></td><td>False</td></tr><tr><td>sigma</td><td>False</td><td>0.0379436</td>\n",
       "                    <td></td><td>     0</td><td></td><td>False</td></tr></table><p><b>current_component_values: Pt_M3O5</b><br />Active: True</p><table style=\"width:100%\"><tr><th>Parameter Name</th><th>Free</th>\n",
       "            <th>Value</th><th>Std</th><th>Min</th><th>Max</th><th>Linear</th></tr><tr><td>A</td><td>Twinned</td><td>2.21832</td>\n",
       "                    <td></td><td>     0</td><td></td><td>True</td></tr><tr><td>centre</td><td>False</td><td>2.63927</td>\n",
       "                    <td></td><td></td><td></td><td>False</td></tr><tr><td>sigma</td><td>False</td><td>0.0397266</td>\n",
       "                    <td></td><td>     0</td><td></td><td>False</td></tr></table><p><b>current_component_values: Pt_Mz</b><br />Active: True</p><table style=\"width:100%\"><tr><th>Parameter Name</th><th>Free</th>\n",
       "            <th>Value</th><th>Std</th><th>Min</th><th>Max</th><th>Linear</th></tr><tr><td>A</td><td>Twinned</td><td>2.98142</td>\n",
       "                    <td></td><td>     0</td><td></td><td>True</td></tr><tr><td>centre</td><td>False</td><td>1.6026</td>\n",
       "                    <td></td><td></td><td></td><td>False</td></tr><tr><td>sigma</td><td>False</td><td>0.0333291</td>\n",
       "                    <td></td><td>     0</td><td></td><td>False</td></tr></table>"
      ],
      "text/plain": [
       "EDSTEMModel: EDS map\n",
       "current_component_values: background_order_6\n",
       "Active: True\n",
       "Parameter Name |    Free |      Value |        Std |        Min |        Max | Linear\n",
       "============== | ======= | ========== | ========== | ========== | ========== | ======\n",
       "            a0 |    True |          0 |       None |       None |       None |   True\n",
       "            a1 |    True |          0 |       None |       None |       None |   True\n",
       "            a2 |    True |          0 |       None |       None |       None |   True\n",
       "            a3 |    True |          0 |       None |       None |       None |   True\n",
       "            a4 |    True |          0 |       None |       None |       None |   True\n",
       "            a5 |    True |          0 |       None |       None |       None |   True\n",
       "            a6 |    True |          0 |       None |       None |       None |   True\n",
       "\n",
       "current_component_values: Pt_Ma\n",
       "Active: True\n",
       "Parameter Name |    Free |      Value |        Std |        Min |        Max | Linear\n",
       "============== | ======= | ========== | ========== | ========== | ========== | ======\n",
       "             A |    True | 221.831963 |        nan |        0.0 |       None |   True\n",
       "        centre |   False |     2.0505 |       None |       None |       None |  False\n",
       "         sigma |   False | 0.03623206 |       None |        0.0 |       None |  False\n",
       "\n",
       "current_component_values: Pt_M2N4\n",
       "Active: True\n",
       "Parameter Name |    Free |      Value |        Std |        Min |        Max | Linear\n",
       "============== | ======= | ========== | ========== | ========== | ========== | ======\n",
       "             A | Twinned | 6.43534525 |       None |        0.0 |       None |   True\n",
       "        centre |   False |     2.6957 |       None |       None |       None |  False\n",
       "         sigma |   False | 0.04004554 |       None |        0.0 |       None |  False\n",
       "\n",
       "current_component_values: Pt_M3O4\n",
       "Active: True\n",
       "Parameter Name |    Free |      Value |        Std |        Min |        Max | Linear\n",
       "============== | ======= | ========== | ========== | ========== | ========== | ======\n",
       "             A | Twinned | 1.10915981 |       None |        0.0 |       None |   True\n",
       "        centre |   False |    2.63796 |       None |       None |       None |  False\n",
       "         sigma |   False | 0.03971919 |       None |        0.0 |       None |  False\n",
       "\n",
       "current_component_values: Pt_Mb\n",
       "Active: True\n",
       "Parameter Name |    Free |      Value |        Std |        Min |        Max | Linear\n",
       "============== | ======= | ========== | ========== | ========== | ========== | ======\n",
       "             A | Twinned | 131.863574 |       None |        0.0 |       None |   True\n",
       "        centre |   False |     2.1276 |       None |       None |       None |  False\n",
       "         sigma |   False | 0.03670861 |       None |        0.0 |       None |  False\n",
       "\n",
       "current_component_values: Pt_Mg\n",
       "Active: True\n",
       "Parameter Name |    Free |      Value |        Std |        Min |        Max | Linear\n",
       "============== | ======= | ========== | ========== | ========== | ========== | ======\n",
       "             A | Twinned | 18.8668084 |       None |        0.0 |       None |   True\n",
       "        centre |   False |     2.3321 |       None |       None |       None |  False\n",
       "         sigma |   False | 0.03794363 |       None |        0.0 |       None |  False\n",
       "\n",
       "current_component_values: Pt_M3O5\n",
       "Active: True\n",
       "Parameter Name |    Free |      Value |        Std |        Min |        Max | Linear\n",
       "============== | ======= | ========== | ========== | ========== | ========== | ======\n",
       "             A | Twinned | 2.21831963 |       None |        0.0 |       None |   True\n",
       "        centre |   False |    2.63927 |       None |       None |       None |  False\n",
       "         sigma |   False | 0.03972662 |       None |        0.0 |       None |  False\n",
       "\n",
       "current_component_values: Pt_Mz\n",
       "Active: True\n",
       "Parameter Name |    Free |      Value |        Std |        Min |        Max | Linear\n",
       "============== | ======= | ========== | ========== | ========== | ========== | ======\n",
       "             A | Twinned | 2.98142158 |       None |        0.0 |       None |   True\n",
       "        centre |   False |     1.6026 |       None |       None |       None |  False\n",
       "         sigma |   False | 0.03332911 |       None |        0.0 |       None |  False\n"
      ]
     },
     "metadata": {},
     "output_type": "display_data"
    }
   ],
   "source": [
    "m = s1.create_model()\n",
    "m.print_current_values()"
   ]
  },
  {
   "cell_type": "code",
   "execution_count": 41,
   "id": "cd0736a5",
   "metadata": {},
   "outputs": [
    {
     "data": {
      "text/plain": [
       " message: Both actual and predicted relative reductions in the sum of squares\n",
       "            are at most 0.000000\n",
       " success: True\n",
       "  status: 1\n",
       "     fun: [-1.251e+00  1.450e-01 ...  5.719e-01 -1.643e+00]\n",
       "       x: [-4.703e+05  1.529e+06 -2.033e+06  1.415e+06 -5.440e+05\n",
       "            1.095e+05 -9.037e+03  1.698e+02]\n",
       "   covar: [[ 7.501e+09 -2.423e+10 ...  1.424e+08  1.254e+05]\n",
       "           [-2.423e+10  7.835e+10 ... -4.630e+08 -4.049e+05]\n",
       "           ...\n",
       "           [ 1.424e+08 -4.630e+08 ...  2.812e+06  2.260e+03]\n",
       "           [ 1.254e+05 -4.049e+05 ...  2.260e+03  1.505e+01]]\n",
       "    nfev: 109"
      ]
     },
     "execution_count": 41,
     "metadata": {},
     "output_type": "execute_result"
    }
   ],
   "source": [
    "m.fit()"
   ]
  },
  {
   "cell_type": "code",
   "execution_count": 42,
   "id": "98286229",
   "metadata": {},
   "outputs": [],
   "source": [
    "m.fit_background()"
   ]
  },
  {
   "cell_type": "code",
   "execution_count": 43,
   "id": "c8fe64df",
   "metadata": {},
   "outputs": [],
   "source": [
    "m.calibrate_energy_axis(calibrate='resolution')"
   ]
  },
  {
   "cell_type": "code",
   "execution_count": 44,
   "id": "2dc98f89",
   "metadata": {},
   "outputs": [],
   "source": [
    "m.plot(True, background_windows=bw, navigator='slider')"
   ]
  },
  {
   "cell_type": "code",
   "execution_count": null,
   "id": "c0b1248d",
   "metadata": {},
   "outputs": [],
   "source": []
  },
  {
   "cell_type": "code",
   "execution_count": null,
   "id": "62afb34d",
   "metadata": {},
   "outputs": [],
   "source": []
  },
  {
   "cell_type": "markdown",
   "id": "6d02e400",
   "metadata": {},
   "source": [
    "Getting an average of the range, in this case we are plotting a C map. Note the dimensiones of the data."
   ]
  },
  {
   "cell_type": "code",
   "execution_count": 72,
   "id": "8b2dfbcc",
   "metadata": {},
   "outputs": [],
   "source": [
    "s.isig[0.205:1.94].mean(axis=\"E\").plot(colorbar=False, scalebar=False, axes_ticks=False,\n",
    "            cmap='viridis', navigator_kwds=dict(colorbar=True,\n",
    "                                                scalebar_color='white',\n",
    "                                                cmap='viridis',\n",
    "                                                axes_ticks=False)\n",
    "                                           )"
   ]
  },
  {
   "cell_type": "code",
   "execution_count": 82,
   "id": "129691e1",
   "metadata": {},
   "outputs": [],
   "source": [
    "lines_intensity = s.inav[103, 87].get_lines_intensity()"
   ]
  },
  {
   "cell_type": "code",
   "execution_count": 84,
   "id": "145443bf",
   "metadata": {},
   "outputs": [
    {
     "data": {
      "text/plain": [
       "[<BaseSignal, title: X-ray line intensity of EDS map: C_Ka at 0.28 keV, dimensions: (1|)>,\n",
       " <BaseSignal, title: X-ray line intensity of EDS map: Cu_La at 0.93 keV, dimensions: (1|)>,\n",
       " <BaseSignal, title: X-ray line intensity of EDS map: Ir_Ma at 1.98 keV, dimensions: (1|)>,\n",
       " <BaseSignal, title: X-ray line intensity of EDS map: Pt_Ma at 2.05 keV, dimensions: (1|)>]"
      ]
     },
     "execution_count": 84,
     "metadata": {},
     "output_type": "execute_result"
    }
   ],
   "source": [
    "lines_intensity"
   ]
  },
  {
   "cell_type": "code",
   "execution_count": 100,
   "id": "5bce55e8",
   "metadata": {},
   "outputs": [],
   "source": [
    "lines_intensity[3].T.plot()"
   ]
  },
  {
   "cell_type": "code",
   "execution_count": 104,
   "id": "385101c5",
   "metadata": {},
   "outputs": [],
   "source": [
    "C_Ka = lines_intensity[0]"
   ]
  },
  {
   "cell_type": "code",
   "execution_count": 105,
   "id": "563051bf",
   "metadata": {},
   "outputs": [],
   "source": [
    "Ir_Ma = lines_intensity[2]"
   ]
  },
  {
   "cell_type": "code",
   "execution_count": 106,
   "id": "f944d94a",
   "metadata": {},
   "outputs": [
    {
     "ename": "ValueError",
     "evalue": "This method only plots signals that are images. The signal dimension must be equal to 2. The signal at position 0 was <BaseSignal, title: X-ray line intensity of EDS map: C_Ka at 0.28 keV, dimensions: (1|)>.",
     "output_type": "error",
     "traceback": [
      "\u001b[0;31m---------------------------------------------------------------------------\u001b[0m",
      "\u001b[0;31mValueError\u001b[0m                                Traceback (most recent call last)",
      "Cell \u001b[0;32mIn[106], line 1\u001b[0m\n\u001b[0;32m----> 1\u001b[0m \u001b[43mhs\u001b[49m\u001b[38;5;241;43m.\u001b[39;49m\u001b[43mplot\u001b[49m\u001b[38;5;241;43m.\u001b[39;49m\u001b[43mplot_images\u001b[49m\u001b[43m(\u001b[49m\u001b[43m[\u001b[49m\u001b[43mC_Ka\u001b[49m\u001b[43m,\u001b[49m\u001b[43m \u001b[49m\u001b[43mIr_Ma\u001b[49m\u001b[43m]\u001b[49m\u001b[43m,\u001b[49m\u001b[43m \u001b[49m\u001b[43moverlay\u001b[49m\u001b[38;5;241;43m=\u001b[39;49m\u001b[38;5;28;43;01mTrue\u001b[39;49;00m\u001b[43m)\u001b[49m\n",
      "File \u001b[0;32m~/anaconda3/envs/temp/lib/python3.9/site-packages/hyperspy/drawing/utils.py:700\u001b[0m, in \u001b[0;36mplot_images\u001b[0;34m(images, cmap, no_nans, per_row, label, labelwrap, suptitle, suptitle_fontsize, colorbar, centre_colormap, scalebar, scalebar_color, axes_decor, padding, tight_layout, aspect, min_asp, namefrac_thresh, fig, vmin, vmax, overlay, colors, alphas, legend_picking, legend_loc, pixel_size_factor, **kwargs)\u001b[0m\n\u001b[1;32m    698\u001b[0m \u001b[38;5;28;01mfor\u001b[39;00m i, sig \u001b[38;5;129;01min\u001b[39;00m \u001b[38;5;28menumerate\u001b[39m(images):\n\u001b[1;32m    699\u001b[0m     \u001b[38;5;28;01mif\u001b[39;00m sig\u001b[38;5;241m.\u001b[39maxes_manager\u001b[38;5;241m.\u001b[39msignal_dimension \u001b[38;5;241m!=\u001b[39m \u001b[38;5;241m2\u001b[39m:\n\u001b[0;32m--> 700\u001b[0m         \u001b[38;5;28;01mraise\u001b[39;00m \u001b[38;5;167;01mValueError\u001b[39;00m(\u001b[38;5;124m\"\u001b[39m\u001b[38;5;124mThis method only plots signals that are images. \u001b[39m\u001b[38;5;124m\"\u001b[39m\n\u001b[1;32m    701\u001b[0m                          \u001b[38;5;124m\"\u001b[39m\u001b[38;5;124mThe signal dimension must be equal to 2. \u001b[39m\u001b[38;5;124m\"\u001b[39m\n\u001b[1;32m    702\u001b[0m                          \u001b[38;5;124m\"\u001b[39m\u001b[38;5;124mThe signal at position \u001b[39m\u001b[38;5;124m\"\u001b[39m \u001b[38;5;241m+\u001b[39m \u001b[38;5;28mrepr\u001b[39m(i) \u001b[38;5;241m+\u001b[39m\n\u001b[1;32m    703\u001b[0m                          \u001b[38;5;124m\"\u001b[39m\u001b[38;5;124m was \u001b[39m\u001b[38;5;124m\"\u001b[39m \u001b[38;5;241m+\u001b[39m \u001b[38;5;28mrepr\u001b[39m(sig) \u001b[38;5;241m+\u001b[39m \u001b[38;5;124m\"\u001b[39m\u001b[38;5;124m.\u001b[39m\u001b[38;5;124m\"\u001b[39m)\n\u001b[1;32m    704\u001b[0m     \u001b[38;5;66;03m# increment n by the navigation size, or by 1 if the navigation size is\u001b[39;00m\n\u001b[1;32m    705\u001b[0m     \u001b[38;5;66;03m# <= 0\u001b[39;00m\n\u001b[1;32m    706\u001b[0m     n \u001b[38;5;241m+\u001b[39m\u001b[38;5;241m=\u001b[39m (sig\u001b[38;5;241m.\u001b[39maxes_manager\u001b[38;5;241m.\u001b[39mnavigation_size\n\u001b[1;32m    707\u001b[0m           \u001b[38;5;28;01mif\u001b[39;00m sig\u001b[38;5;241m.\u001b[39maxes_manager\u001b[38;5;241m.\u001b[39mnavigation_size \u001b[38;5;241m>\u001b[39m \u001b[38;5;241m0\u001b[39m\n\u001b[1;32m    708\u001b[0m           \u001b[38;5;28;01melse\u001b[39;00m \u001b[38;5;241m1\u001b[39m)\n",
      "\u001b[0;31mValueError\u001b[0m: This method only plots signals that are images. The signal dimension must be equal to 2. The signal at position 0 was <BaseSignal, title: X-ray line intensity of EDS map: C_Ka at 0.28 keV, dimensions: (1|)>."
     ]
    }
   ],
   "source": [
    "hs.plot.plot_images([C_Ka, Ir_Ma], overlay=True)"
   ]
  },
  {
   "cell_type": "markdown",
   "id": "b7a7203c",
   "metadata": {},
   "source": [
    "### Whole signal with 'depth axis'"
   ]
  },
  {
   "cell_type": "code",
   "execution_count": 63,
   "id": "6c31ec0a",
   "metadata": {},
   "outputs": [],
   "source": [
    "signal.plot()"
   ]
  },
  {
   "cell_type": "code",
   "execution_count": 64,
   "id": "7f69cf75",
   "metadata": {},
   "outputs": [],
   "source": [
    "signal.plot(colorbar=False, scalebar=False, axes_ticks=False,\n",
    "            cmap='viridis', navigator_kwds=dict(colorbar=True,\n",
    "                                                scalebar_color='red',\n",
    "                                                cmap='YlGnBu',\n",
    "                                                axes_ticks=False)\n",
    "           )"
   ]
  },
  {
   "cell_type": "markdown",
   "id": "5617b0b6",
   "metadata": {},
   "source": [
    "Cheking value of pixel"
   ]
  },
  {
   "cell_type": "code",
   "execution_count": 9,
   "id": "37eb2a2c",
   "metadata": {},
   "outputs": [
    {
     "data": {
      "text/plain": [
       "1864"
      ]
     },
     "execution_count": 9,
     "metadata": {},
     "output_type": "execute_result"
    }
   ],
   "source": [
    "signal.inav[49, 51].data.sum()"
   ]
  },
  {
   "cell_type": "code",
   "execution_count": 10,
   "id": "c803895e",
   "metadata": {},
   "outputs": [],
   "source": [
    "signal.inav[49, 51].plot()"
   ]
  },
  {
   "cell_type": "markdown",
   "id": "45c4a0e8",
   "metadata": {},
   "source": [
    "#### Using a range to get the navigator of a specific element"
   ]
  },
  {
   "cell_type": "markdown",
   "id": "16a28ca1",
   "metadata": {},
   "source": [
    "Note that the signal dimension depends on the chosen range"
   ]
  },
  {
   "cell_type": "code",
   "execution_count": 30,
   "id": "6660fca3",
   "metadata": {},
   "outputs": [
    {
     "data": {
      "text/plain": [
       "<EDSSEMSpectrum, title: EDS map, dimensions: (104, 88|20)>"
      ]
     },
     "execution_count": 30,
     "metadata": {},
     "output_type": "execute_result"
    }
   ],
   "source": [
    "signal.isig[95:115]"
   ]
  },
  {
   "cell_type": "markdown",
   "id": "4473e5b5",
   "metadata": {},
   "source": [
    "Average of the range"
   ]
  },
  {
   "cell_type": "code",
   "execution_count": 31,
   "id": "4e336179",
   "metadata": {},
   "outputs": [],
   "source": [
    "# signal.isig[95:115].mean(axis=\"depth\")\n",
    "signal.isig[95:115].mean(axis=\"depth\").plot(colorbar=False, scalebar=False, axes_ticks=False,\n",
    "                                            cmap='RdYlBu_r', navigator_kwds=dict(colorbar=True,\n",
    "                                                                                 scalebar_color='red',\n",
    "                                                                                 cmap='RdYlBu_r',\n",
    "                                                                                 axes_ticks=False)\n",
    "                                           )"
   ]
  },
  {
   "cell_type": "markdown",
   "id": "c4c124c7",
   "metadata": {},
   "source": [
    "Comparison with the 109 value "
   ]
  },
  {
   "cell_type": "code",
   "execution_count": 26,
   "id": "f624811d",
   "metadata": {},
   "outputs": [],
   "source": [
    "signal.isig[109].plot(colorbar=False, scalebar=False, axes_ticks=False,\n",
    "            cmap='RdYlBu_r', navigator_kwds=dict(colorbar=True,\n",
    "                                                scalebar_color='red',\n",
    "                                                cmap='RdYlBu_r',\n",
    "                                                axes_ticks=False)\n",
    "           )"
   ]
  },
  {
   "cell_type": "markdown",
   "id": "4ce93bc4",
   "metadata": {},
   "source": [
    "#### Other peaks"
   ]
  },
  {
   "cell_type": "code",
   "execution_count": 27,
   "id": "3e94cd89",
   "metadata": {},
   "outputs": [],
   "source": [
    "signal.isig[36].plot()"
   ]
  },
  {
   "cell_type": "code",
   "execution_count": 77,
   "id": "4b0a35c5",
   "metadata": {},
   "outputs": [],
   "source": [
    "signal.isig[219].plot()"
   ]
  },
  {
   "cell_type": "markdown",
   "id": "e9b6015e",
   "metadata": {},
   "source": [
    "Setting elements?! Useful?!"
   ]
  },
  {
   "cell_type": "code",
   "execution_count": 28,
   "id": "8cb5b9d5",
   "metadata": {},
   "outputs": [],
   "source": [
    "signal.set_elements(['Ir','Pt'])"
   ]
  },
  {
   "cell_type": "code",
   "execution_count": 29,
   "id": "bd8c1b9d",
   "metadata": {},
   "outputs": [
    {
     "data": {
      "text/html": [
       "<ul style=\"margin: 0px; list-style-position: outside;\">\n",
       "                    <details open>\n",
       "                    <summary style=\"display: list-item;\">\n",
       "                    <li style=\"display: inline;\">\n",
       "                    Acquisition_instrument\n",
       "                    </li></summary>\n",
       "                    <ul style=\"margin: 0px; list-style-position: outside;\">\n",
       "                    <details closed>\n",
       "                    <summary style=\"display: list-item;\">\n",
       "                    <li style=\"display: inline;\">\n",
       "                    SEM\n",
       "                    </li></summary>\n",
       "                    <ul style=\"margin: 0px; list-style-position: outside;\">\n",
       "                    <details closed>\n",
       "                    <summary style=\"display: list-item;\">\n",
       "                    <li style=\"display: inline;\">\n",
       "                    Detector\n",
       "                    </li></summary>\n",
       "                    <ul style=\"margin: 0px; list-style-position: outside;\">\n",
       "                    <details closed>\n",
       "                    <summary style=\"display: list-item;\">\n",
       "                    <li style=\"display: inline;\">\n",
       "                    EDS\n",
       "                    </li></summary>\n",
       "                    \n",
       "    <ul style=\"margin: 0px; list-style-position: outside;\">\n",
       "    <li style='margin-left:1em; padding-left: 0.5em'>azimuth_angle = 0.0</li></ul>\n",
       "    \n",
       "    <ul style=\"margin: 0px; list-style-position: outside;\">\n",
       "    <li style='margin-left:1em; padding-left: 0.5em'>elevation_angle = 35.0</li></ul>\n",
       "    \n",
       "    <ul style=\"margin: 0px; list-style-position: outside;\">\n",
       "    <li style='margin-left:1em; padding-left: 0.5em'>energy_resolution_MnKa = 130.0</li></ul>\n",
       "    </details></ul></details></ul><ul style=\"margin: 0px; list-style-position: outside;\">\n",
       "                    <details closed>\n",
       "                    <summary style=\"display: list-item;\">\n",
       "                    <li style=\"display: inline;\">\n",
       "                    Stage\n",
       "                    </li></summary>\n",
       "                    \n",
       "    <ul style=\"margin: 0px; list-style-position: outside;\">\n",
       "    <li style='margin-left:1em; padding-left: 0.5em'>tilt_alpha = 0.0</li></ul>\n",
       "    </details></ul></details></ul></details></ul><ul style=\"margin: 0px; list-style-position: outside;\">\n",
       "                    <details open>\n",
       "                    <summary style=\"display: list-item;\">\n",
       "                    <li style=\"display: inline;\">\n",
       "                    General\n",
       "                    </li></summary>\n",
       "                    <ul style=\"margin: 0px; list-style-position: outside;\">\n",
       "                    <details closed>\n",
       "                    <summary style=\"display: list-item;\">\n",
       "                    <li style=\"display: inline;\">\n",
       "                    FileIO\n",
       "                    </li></summary>\n",
       "                    <ul style=\"margin: 0px; list-style-position: outside;\">\n",
       "                    <details closed>\n",
       "                    <summary style=\"display: list-item;\">\n",
       "                    <li style=\"display: inline;\">\n",
       "                    0\n",
       "                    </li></summary>\n",
       "                    \n",
       "    <ul style=\"margin: 0px; list-style-position: outside;\">\n",
       "    <li style='margin-left:1em; padding-left: 0.5em'>hyperspy_version = 1.7.4</li></ul>\n",
       "    \n",
       "    <ul style=\"margin: 0px; list-style-position: outside;\">\n",
       "    <li style='margin-left:1em; padding-left: 0.5em'>io_plugin = hyperspy.io_plugins.ripple</li></ul>\n",
       "    \n",
       "    <ul style=\"margin: 0px; list-style-position: outside;\">\n",
       "    <li style='margin-left:1em; padding-left: 0.5em'>operation = load</li></ul>\n",
       "    \n",
       "    <ul style=\"margin: 0px; list-style-position: outside;\">\n",
       "    <li style='margin-left:1em; padding-left: 0.5em'>timestamp = 2023-07-06T13:30:40.743760-07:00</li></ul>\n",
       "    </details></ul></details></ul>\n",
       "    <ul style=\"margin: 0px; list-style-position: outside;\">\n",
       "    <li style='margin-left:1em; padding-left: 0.5em'>date = </li></ul>\n",
       "    \n",
       "    <ul style=\"margin: 0px; list-style-position: outside;\">\n",
       "    <li style='margin-left:1em; padding-left: 0.5em'>original_filename = EDS Data.rpl</li></ul>\n",
       "    \n",
       "    <ul style=\"margin: 0px; list-style-position: outside;\">\n",
       "    <li style='margin-left:1em; padding-left: 0.5em'>time = </li></ul>\n",
       "    \n",
       "    <ul style=\"margin: 0px; list-style-position: outside;\">\n",
       "    <li style='margin-left:1em; padding-left: 0.5em'>title = EDS map</li></ul>\n",
       "    </details></ul><ul style=\"margin: 0px; list-style-position: outside;\">\n",
       "                    <details open>\n",
       "                    <summary style=\"display: list-item;\">\n",
       "                    <li style=\"display: inline;\">\n",
       "                    Sample\n",
       "                    </li></summary>\n",
       "                    \n",
       "    <ul style=\"margin: 0px; list-style-position: outside;\">\n",
       "    <li style='margin-left:1em; padding-left: 0.5em'>elements = ['Ir', 'Pt']</li></ul>\n",
       "    </details></ul><ul style=\"margin: 0px; list-style-position: outside;\">\n",
       "                    <details open>\n",
       "                    <summary style=\"display: list-item;\">\n",
       "                    <li style=\"display: inline;\">\n",
       "                    Signal\n",
       "                    </li></summary>\n",
       "                    \n",
       "    <ul style=\"margin: 0px; list-style-position: outside;\">\n",
       "    <li style='margin-left:1em; padding-left: 0.5em'>signal_type = EDS_SEM</li></ul>\n",
       "    </details></ul>"
      ],
      "text/plain": [
       "├── Acquisition_instrument\n",
       "│   └── SEM\n",
       "│       ├── Detector\n",
       "│       │   └── EDS\n",
       "│       │       ├── azimuth_angle = 0.0\n",
       "│       │       ├── elevation_angle = 35.0\n",
       "│       │       └── energy_resolution_MnKa = 130.0\n",
       "│       └── Stage\n",
       "│           └── tilt_alpha = 0.0\n",
       "├── General\n",
       "│   ├── FileIO\n",
       "│   │   └── 0\n",
       "│   │       ├── hyperspy_version = 1.7.4\n",
       "│   │       ├── io_plugin = hyperspy.io_plugins.ripple\n",
       "│   │       ├── operation = load\n",
       "│   │       └── timestamp = 2023-07-06T13:30:40.743760-07:00\n",
       "│   ├── date = \n",
       "│   ├── original_filename = EDS Data.rpl\n",
       "│   ├── time = \n",
       "│   └── title = EDS map\n",
       "├── Sample\n",
       "│   └── elements = ['Ir', 'Pt']\n",
       "└── Signal\n",
       "    └── signal_type = EDS_SEM"
      ]
     },
     "execution_count": 29,
     "metadata": {},
     "output_type": "execute_result"
    }
   ],
   "source": [
    "signal.metadata"
   ]
  },
  {
   "cell_type": "code",
   "execution_count": 12,
   "id": "918d3545",
   "metadata": {},
   "outputs": [
    {
     "data": {
      "application/vnd.jupyter.widget-view+json": {
       "model_id": "6a7367061c92426c8d7ae12d53cc1bb8",
       "version_major": 2,
       "version_minor": 0
      },
      "text/plain": [
       "HBox(children=(Accordion(children=(VBox(children=(HBox(children=(Label(value='Name'), Text(value='width')), la…"
      ]
     },
     "metadata": {},
     "output_type": "display_data"
    }
   ],
   "source": [
    "signal.axes_manager.gui()\n"
   ]
  },
  {
   "cell_type": "code",
   "execution_count": null,
   "id": "389bb787",
   "metadata": {},
   "outputs": [],
   "source": []
  },
  {
   "cell_type": "code",
   "execution_count": 28,
   "id": "67cc3708",
   "metadata": {},
   "outputs": [],
   "source": []
  },
  {
   "cell_type": "code",
   "execution_count": 30,
   "id": "56fb2cb7",
   "metadata": {},
   "outputs": [],
   "source": []
  },
  {
   "cell_type": "code",
   "execution_count": null,
   "id": "a909671d",
   "metadata": {},
   "outputs": [],
   "source": []
  }
 ],
 "metadata": {
  "kernelspec": {
   "display_name": "Python 3 (ipykernel)",
   "language": "python",
   "name": "python3"
  },
  "language_info": {
   "codemirror_mode": {
    "name": "ipython",
    "version": 3
   },
   "file_extension": ".py",
   "mimetype": "text/x-python",
   "name": "python",
   "nbconvert_exporter": "python",
   "pygments_lexer": "ipython3",
   "version": "3.9.13"
  }
 },
 "nbformat": 4,
 "nbformat_minor": 5
}
