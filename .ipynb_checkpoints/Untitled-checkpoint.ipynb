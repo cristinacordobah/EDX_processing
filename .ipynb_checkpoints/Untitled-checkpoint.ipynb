{
 "cells": [
  {
   "cell_type": "code",
   "execution_count": 1,
   "id": "78e372e7",
   "metadata": {},
   "outputs": [],
   "source": [
    "# %matplotlib inline  \n",
    "%matplotlib qt\n",
    "# %matplotlib auto"
   ]
  },
  {
   "cell_type": "code",
   "execution_count": 4,
   "id": "2b756916",
   "metadata": {},
   "outputs": [],
   "source": [
    "import numpy as np\n",
    "import scipy.misc\n",
    "import hyperspy.api as hs\n",
    "#import pixstem.api as ps\n",
    "import matplotlib.colors as colors\n",
    "import matplotlib.pyplot as plt\n",
    "import matplotlib as mpl \n",
    "import os, os.path as path, glob\n",
    "import scipy.io as sio\n",
    "import pandas as pd \n",
    "#import imageio\n",
    "#import hihi\n",
    "import h5py\n",
    "import json\n",
    "import copy\n",
    "import lmfit\n",
    "\n",
    "# If ``empix`` is not installed, run \n",
    "# pip install git+https://gitlab.com/mrfitzpa/empix.git\n",
    "# in virtual environment.\n",
    "import empix\n",
    "\n",
    "from matplotlib.ticker import MultipleLocator, FormatStrFormatter"
   ]
  },
  {
   "cell_type": "code",
   "execution_count": 8,
   "id": "341b0de7",
   "metadata": {},
   "outputs": [
    {
     "ename": "ValueError",
     "evalue": "No filename matches the pattern \"EDS Data.rpl\"",
     "output_type": "error",
     "traceback": [
      "\u001b[1;31m---------------------------------------------------------------------------\u001b[0m",
      "\u001b[1;31mValueError\u001b[0m                                Traceback (most recent call last)",
      "Cell \u001b[1;32mIn[8], line 1\u001b[0m\n\u001b[1;32m----> 1\u001b[0m si \u001b[38;5;241m=\u001b[39m \u001b[43mhs\u001b[49m\u001b[38;5;241;43m.\u001b[39;49m\u001b[43mload\u001b[49m\u001b[43m(\u001b[49m\u001b[38;5;124;43m\"\u001b[39;49m\u001b[38;5;124;43mEDS Data.rpl\u001b[39;49m\u001b[38;5;124;43m\"\u001b[39;49m\u001b[43m)\u001b[49m\n",
      "File \u001b[1;32mC:\\Anaconda3\\envs\\cris2\\lib\\site-packages\\hyperspy\\io.py:379\u001b[0m, in \u001b[0;36mload\u001b[1;34m(filenames, signal_type, stack, stack_axis, new_axis_name, lazy, convert_units, escape_square_brackets, stack_metadata, load_original_metadata, show_progressbar, **kwds)\u001b[0m\n\u001b[0;32m    374\u001b[0m     filenames \u001b[38;5;241m=\u001b[39m natsorted([f \u001b[38;5;28;01mfor\u001b[39;00m f \u001b[38;5;129;01min\u001b[39;00m glob\u001b[38;5;241m.\u001b[39mglob(filenames)\n\u001b[0;32m    375\u001b[0m                            \u001b[38;5;28;01mif\u001b[39;00m os\u001b[38;5;241m.\u001b[39mpath\u001b[38;5;241m.\u001b[39misfile(f) \u001b[38;5;129;01mor\u001b[39;00m (os\u001b[38;5;241m.\u001b[39mpath\u001b[38;5;241m.\u001b[39misdir(f) \u001b[38;5;129;01mand\u001b[39;00m\n\u001b[0;32m    376\u001b[0m                                                     os\u001b[38;5;241m.\u001b[39mpath\u001b[38;5;241m.\u001b[39msplitext(f)[\u001b[38;5;241m1\u001b[39m] \u001b[38;5;241m==\u001b[39m \u001b[38;5;124m'\u001b[39m\u001b[38;5;124m.zspy\u001b[39m\u001b[38;5;124m'\u001b[39m)])\n\u001b[0;32m    378\u001b[0m     \u001b[38;5;28;01mif\u001b[39;00m \u001b[38;5;129;01mnot\u001b[39;00m filenames:\n\u001b[1;32m--> 379\u001b[0m         \u001b[38;5;28;01mraise\u001b[39;00m \u001b[38;5;167;01mValueError\u001b[39;00m(\u001b[38;5;124mf\u001b[39m\u001b[38;5;124m'\u001b[39m\u001b[38;5;124mNo filename matches the pattern \u001b[39m\u001b[38;5;124m\"\u001b[39m\u001b[38;5;132;01m{\u001b[39;00mpattern\u001b[38;5;132;01m}\u001b[39;00m\u001b[38;5;124m\"\u001b[39m\u001b[38;5;124m'\u001b[39m)\n\u001b[0;32m    381\u001b[0m \u001b[38;5;28;01melif\u001b[39;00m \u001b[38;5;28misinstance\u001b[39m(filenames, Path):\n\u001b[0;32m    382\u001b[0m     \u001b[38;5;66;03m# Just convert to list for now, pathlib.Path not\u001b[39;00m\n\u001b[0;32m    383\u001b[0m     \u001b[38;5;66;03m# fully supported in io_plugins\u001b[39;00m\n\u001b[0;32m    384\u001b[0m     filenames \u001b[38;5;241m=\u001b[39m [f \u001b[38;5;28;01mfor\u001b[39;00m f \u001b[38;5;129;01min\u001b[39;00m [filenames]\n\u001b[0;32m    385\u001b[0m                  \u001b[38;5;28;01mif\u001b[39;00m f\u001b[38;5;241m.\u001b[39mis_file() \u001b[38;5;129;01mor\u001b[39;00m (f\u001b[38;5;241m.\u001b[39mis_dir() \u001b[38;5;129;01mand\u001b[39;00m \u001b[38;5;124m\"\u001b[39m\u001b[38;5;124m.zspy\u001b[39m\u001b[38;5;124m\"\u001b[39m \u001b[38;5;129;01min\u001b[39;00m f\u001b[38;5;241m.\u001b[39mname)]\n",
      "\u001b[1;31mValueError\u001b[0m: No filename matches the pattern \"EDS Data.rpl\""
     ]
    }
   ],
   "source": [
    "si = hs.load(\"EDS Data.rpl\")"
   ]
  },
  {
   "cell_type": "code",
   "execution_count": null,
   "id": "03e91d3c",
   "metadata": {},
   "outputs": [],
   "source": []
  }
 ],
 "metadata": {
  "kernelspec": {
   "display_name": "Python 3 (ipykernel)",
   "language": "python",
   "name": "python3"
  },
  "language_info": {
   "codemirror_mode": {
    "name": "ipython",
    "version": 3
   },
   "file_extension": ".py",
   "mimetype": "text/x-python",
   "name": "python",
   "nbconvert_exporter": "python",
   "pygments_lexer": "ipython3",
   "version": "3.9.16"
  }
 },
 "nbformat": 4,
 "nbformat_minor": 5
}
